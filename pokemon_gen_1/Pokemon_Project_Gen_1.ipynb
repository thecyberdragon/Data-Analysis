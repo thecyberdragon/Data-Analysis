{
  "nbformat": 4,
  "nbformat_minor": 0,
  "metadata": {
    "colab": {
      "provenance": [],
      "collapsed_sections": [
        "I-n0FkWjYzJ4",
        "DbbRvG4kaRug",
        "kkPliubLbZ7M",
        "vhfF5ctOb-po",
        "8vIoryW9cROL",
        "hmTcLb6ccfGl",
        "x0qpZd8TMQOb",
        "5xSd169Idlu1",
        "w5KrcE5hd2CM",
        "UEo4HZvYYYMF"
      ]
    },
    "kernelspec": {
      "name": "python3",
      "display_name": "Python 3"
    },
    "language_info": {
      "name": "python"
    }
  },
  "cells": [
    {
      "cell_type": "markdown",
      "source": [
        "#Pokemon Data Analysis - Generation 1\n",
        "This is a web scrape and analysis of the generation 1 pokedex. All pokemon will have their original typings (no steel, fairy or dark), and their stats will be faithful to the original pokedex.   \n",
        "\n",
        "I will analyse the distributions of each typing for both mono and dual-type pokemon, and calculate each pokemon's maximum level 100 fully-trained stats.   \n",
        "\n",
        "Finally, I will write a damage calculator using the original formula to see how much damage each pokemon in the pokedex takes from:   \n",
        "-Gyarados's hyper beam   \n",
        "-Mewtwo's psychic   \n",
        "-Pikachu's thunder   \n",
        "-Golem's explosion   \n",
        "-Charizard's fire blast   \n",
        "-Blastoise's hydro pump   \n",
        "-Venusaur's solar beam   \n",
        "\n",
        "This data will be scraped, generated, calculated and stored as CSV files on GitHub.   \n",
        "\n",
        "**Stages of the Analysis**   \n",
        "1- Importing required Python libraries   \n",
        "2- Primary pokedex DataFrame creation   \n",
        "3- Performing an analysis of the pokedex type distribution   \n",
        "4- Performing an analysis of the pokedex stat distributions   \n",
        "5- Create a DataFrame of the attacking moves to use in the exploration   \n",
        "6- Create functions for damage, level 100 stats and battle mechanics   \n",
        "7- Create a DataFrame and pivot table of each types coverage in the pokedex   \n",
        "8- Explore the damage distribution of 7 popular pokemon and their moves   \n",
        "9- Conclusion and link to Tableua public   \n",
        "10- Extra code sandbox area for viewer testing\n"
      ],
      "metadata": {
        "id": "mA1rEHYnXtnx"
      }
    },
    {
      "cell_type": "markdown",
      "source": [
        "## 1- All Library Imports\n",
        "Pandas and numpy for general data analysis   \n",
        "Mat plot lib and seaborn for visualisation   \n",
        "Requests to save webpage data, and beautiful soup to scrape the information needed   "
      ],
      "metadata": {
        "id": "I-n0FkWjYzJ4"
      }
    },
    {
      "cell_type": "code",
      "execution_count": null,
      "metadata": {
        "id": "IqSQYIvwQJD9"
      },
      "outputs": [],
      "source": [
        "# Import Libraries\n",
        "import pandas as pd\n",
        "import numpy as np\n",
        "import matplotlib.pyplot as plt\n",
        "import seaborn as sns\n",
        "from bs4 import BeautifulSoup\n",
        "import requests"
      ]
    },
    {
      "cell_type": "markdown",
      "source": [
        "#2- Primary pokedex Data Frame creation\n",
        "This is the primary scrape of the pokedex, cleaning it up and adding the stats."
      ],
      "metadata": {
        "id": "DbbRvG4kaRug"
      }
    },
    {
      "cell_type": "markdown",
      "source": [
        "## Initial Web Scraping\n",
        "Get data from Bulbapedia, assemble and scrape required data into a data frame."
      ],
      "metadata": {
        "id": "N1d0CZmZZIMe"
      }
    },
    {
      "cell_type": "code",
      "source": [
        "# Save webpage data and create beautiful soup variable (pokemon dex, names and types)\n",
        "url = \"https://bulbapedia.bulbagarden.net/wiki/List_of_Pok%C3%A9mon_by_Kanto_Pok%C3%A9dex_number\"\n",
        "raw_page = requests.get(url)\n",
        "soup = BeautifulSoup(raw_page.text, \"html.parser\")"
      ],
      "metadata": {
        "id": "FrJFLHsBgrb-"
      },
      "execution_count": null,
      "outputs": []
    },
    {
      "cell_type": "code",
      "source": [
        "# Find all 3x tables with the pokemon data on the page\n",
        "table_1 = soup.find_all(\"table\")[1]\n",
        "table_2 = soup.find_all(\"table\")[2]\n",
        "table_3 = soup.find_all(\"table\")[3]"
      ],
      "metadata": {
        "id": "1Dd1-IMgQ3j1"
      },
      "execution_count": null,
      "outputs": []
    },
    {
      "cell_type": "code",
      "source": [
        "# Find all pokemon by the TR tag\n",
        "mons_1 = table_1.find_all(\"tr\")\n",
        "mons_2 = table_2.find_all(\"tr\")\n",
        "mons_3 = table_3.find_all(\"tr\")\n",
        "tables = [mons_1, mons_2, mons_3]"
      ],
      "metadata": {
        "colab": {
          "base_uri": "https://localhost:8080/"
        },
        "id": "riJ5PiZUSdR9",
        "outputId": "208f3700-81f1-486e-d7ec-dfc36b25197b"
      },
      "execution_count": null,
      "outputs": [
        {
          "output_type": "stream",
          "name": "stdout",
          "text": [
            "<tr style=\"background:#FFF\">\n",
            "<td style=\"font-family:monospace\">#001\n",
            "</td>\n",
            "<td style=\"font-family:monospace\">#0001\n",
            "</td>\n",
            "<th><a href=\"/wiki/Bulbasaur_(Pok%C3%A9mon)\" title=\"Bulbasaur\"><img alt=\"Bulbasaur\" decoding=\"async\" height=\"52\" loading=\"lazy\" src=\"//archives.bulbagarden.net/media/upload/7/71/001MSPE.png\" width=\"52\"/></a>\n",
            "</th>\n",
            "<td><a href=\"/wiki/Bulbasaur_(Pok%C3%A9mon)\" title=\"Bulbasaur (Pokémon)\">Bulbasaur</a>\n",
            "</td>\n",
            "<td colspan=\"1\" style=\"text-align:center; background:#78C850\"><a href=\"/wiki/Grass_(type)\" title=\"Grass (type)\"><span style=\"color:#FFF\">Grass</span></a></td>\n",
            "<td align=\"center\" colspan=\"1\" rowspan=\"1\" style=\"background:#A040A0\"><a href=\"/wiki/Poison_(type)\" title=\"Poison (type)\"><span style=\"color:#FFFFFF\">Poison</span></a>\n",
            "</td></tr>\n"
          ]
        }
      ]
    },
    {
      "cell_type": "code",
      "source": [
        "# Create lists of all entrees and zip into a dataframe\n",
        "dexes = []\n",
        "names = []\n",
        "type_1s = []\n",
        "type_2s = []\n",
        "\n",
        "for table in tables:\n",
        "  for mon in range(1,len(table)):\n",
        "    elements = table[mon].find_all(\"td\")\n",
        "\n",
        "    dex = str(elements[0].text).replace(\"#\",\"\")[0:-1]\n",
        "    name = str(elements[2].text)[0:-1]\n",
        "\n",
        "    if (len(elements) == 4):\n",
        "      type_1 = str(elements[3].text)[0:-1]\n",
        "    else:\n",
        "      type_1 = str(elements[3].text)\n",
        "\n",
        "    if (len(elements) == 5):\n",
        "      type_2 = str(elements[4].text)[0:-1]\n",
        "    else:\n",
        "      type_2 = \"\"\n",
        "\n",
        "    dexes.append(dex)\n",
        "    names.append(name)\n",
        "    type_1s.append(type_1)\n",
        "    type_2s.append(type_2)\n",
        "\n",
        "data = list(zip(dexes, names, type_1s, type_2s))\n",
        "df = pd.DataFrame(data, columns=[\"dex\",\"name\",\"type_1\",\"type_2\"])\n"
      ],
      "metadata": {
        "id": "pKw_I4wDTCKY"
      },
      "execution_count": null,
      "outputs": []
    },
    {
      "cell_type": "markdown",
      "source": [
        "### Data Clean\n",
        "The pokedex data scraped from bulbapedia contains the current typings which include the three new types: dark, steel and fairy. This was manually changed to how it should be for the original RBY generation 1 pokedex.   "
      ],
      "metadata": {
        "id": "tqcG8o9uZw4K"
      }
    },
    {
      "cell_type": "code",
      "source": [
        "# Find faries\n",
        "print(\"Fairies in DataFrame\")\n",
        "fairies = df[(df.type_1 == 'Fairy') | (df.type_2 == 'Fairy')]\n",
        "print(fairies)\n",
        "\n",
        "# Eliminate type_2 fairies\n",
        "print(\"Fairies after type 2 removal\")\n",
        "df.type_2 = df[\"type_2\"].replace(\"Fairy\",\"\", regex=True)\n",
        "fairies = df[(df.type_1 == 'Fairy') | (df.type_2 == 'Fairy')]\n",
        "print(fairies)\n",
        "\n",
        "# Replace type_1 fairies with normal typing\n",
        "print(\"Fairies after type 1 replacement with normal\")\n",
        "df.type_1 = df[\"type_1\"].replace(\"Fairy\",\"Normal\",regex=True)\n",
        "fairies = df[(df.type_1 == 'Fairy') | (df.type_2 == 'Fairy')]\n",
        "print(fairies)\n",
        "\n",
        "# Find steel types and remove second typing\n",
        "print(\"Steel types in the DataFrame\")\n",
        "steel = df[(df.type_1 == \"Steel\") | (df.type_2 == \"Steel\")]\n",
        "print(steel)\n",
        "\n",
        "print(\"Removing from second type\")\n",
        "df.type_2 = df[\"type_2\"].replace(\"Steel\",\"\",regex=True)\n",
        "steel = df[(df.type_1 == \"Steel\") | (df.type_2 == \"Steel\")]\n",
        "print(steel)"
      ],
      "metadata": {
        "colab": {
          "base_uri": "https://localhost:8080/"
        },
        "id": "g4qe_MsihN8H",
        "outputId": "f0a2cff3-e3f6-4bc9-8445-b9c57cc8ad1e"
      },
      "execution_count": null,
      "outputs": [
        {
          "output_type": "stream",
          "name": "stdout",
          "text": [
            "Fairies in DataFrame\n",
            "Empty DataFrame\n",
            "Columns: [dex, name, type_1, type_2]\n",
            "Index: []\n",
            "Fairies after type 2 removal\n",
            "Empty DataFrame\n",
            "Columns: [dex, name, type_1, type_2]\n",
            "Index: []\n",
            "Fairies after type 1 replacement with normal\n",
            "Empty DataFrame\n",
            "Columns: [dex, name, type_1, type_2]\n",
            "Index: []\n",
            "Steel types in the DataFrame\n",
            "    dex       name    type_1 type_2\n",
            "80  081  Magnemite  Electric  Steel\n",
            "81  082   Magneton  Electric  Steel\n",
            "Removing from second type\n",
            "Empty DataFrame\n",
            "Columns: [dex, name, type_1, type_2]\n",
            "Index: []\n"
          ]
        }
      ]
    },
    {
      "cell_type": "markdown",
      "source": [
        "## Second scrape of stats\n",
        "Now that a pokedex has been generated which includes data on the pokemon, its typing and pokedex number, it's time to add their stats."
      ],
      "metadata": {
        "id": "pTKem9MeaLOL"
      }
    },
    {
      "cell_type": "code",
      "source": [
        "# Scrape pokemon stats and add to data frame\n",
        "stats_url = \"https://bulbapedia.bulbagarden.net/wiki/List_of_Pokémon_by_base_stats_(Generation_I)\"\n",
        "stats_page = requests.get(stats_url)\n",
        "stats_soup = BeautifulSoup(stats_page.text, \"html.parser\")"
      ],
      "metadata": {
        "id": "Q1HTdKH3rMbf"
      },
      "execution_count": null,
      "outputs": []
    },
    {
      "cell_type": "code",
      "source": [
        "# Find the table in the scrape\n",
        "stat_table = stats_soup.find_all(\"table\")[1]\n",
        "pokemon_stats = stat_table.find_all(\"tr\")\n",
        "print(pokemon_stats[1])\n",
        "\n",
        "for i in range(1,len(pokemon_stats)):\n",
        "\n",
        "  # Find all elements in entry i\n",
        "  elements = pokemon_stats[i].find_all(\"td\")\n",
        "\n",
        "  # Find values\n",
        "  poke_name = str.strip(elements[2].text)\n",
        "  hp = str.strip(elements[3].text)\n",
        "  attack = str.strip(elements[4].text)\n",
        "  defence = str.strip(elements[5].text)\n",
        "  speed = str.strip(elements[6].text)\n",
        "  special = str.strip(elements[7].text)\n",
        "\n",
        "  # Input into DataFrame\n",
        "  df.loc[df.name == poke_name, \"hp\"] = hp\n",
        "  df.loc[df.name == poke_name, \"attack\"] = attack\n",
        "  df.loc[df.name == poke_name, \"defence\"] = defence\n",
        "  df.loc[df.name == poke_name, \"sp_attack\"] = special\n",
        "  df.loc[df.name == poke_name, \"sp_defence\"] = special\n",
        "  df.loc[df.name == poke_name, \"speed\"] = speed\n"
      ],
      "metadata": {
        "colab": {
          "base_uri": "https://localhost:8080/"
        },
        "id": "jMEsqsPSraLK",
        "outputId": "d6a13937-68e9-4ac6-c160-743b553448d0"
      },
      "execution_count": null,
      "outputs": [
        {
          "output_type": "stream",
          "name": "stdout",
          "text": [
            "<tr style=\"background:#FFFFFF; text-align:center\">\n",
            "<td class=\"r\" style=\"font-family:monospace,monospace\"><b>0001</b>\n",
            "</td>\n",
            "<td><a href=\"/wiki/Bulbasaur_(Pok%C3%A9mon)\" title=\"Bulbasaur\"><img alt=\"Bulbasaur\" decoding=\"async\" height=\"32\" loading=\"lazy\" src=\"//archives.bulbagarden.net/media/upload/c/c5/001MS3.png\" width=\"32\"/></a>\n",
            "</td>\n",
            "<td align=\"left\"><a href=\"/wiki/Bulbasaur_(Pok%C3%A9mon)\" title=\"Bulbasaur (Pokémon)\">Bulbasaur</a>\n",
            "</td>\n",
            "<td style=\"background:#FF5959\">45\n",
            "</td>\n",
            "<td style=\"background:#F5AC78\">49\n",
            "</td>\n",
            "<td style=\"background:#FAE078\">49\n",
            "</td>\n",
            "<td style=\"background:#FA92B2\">45\n",
            "</td>\n",
            "<td style=\"background:#94EFE0\">65\n",
            "</td>\n",
            "<td>253\n",
            "</td>\n",
            "<td>50.6\n",
            "</td></tr>\n"
          ]
        }
      ]
    },
    {
      "cell_type": "code",
      "source": [
        "# Check the 3 rows\n",
        "print(df.head(3))\n",
        "\n",
        "# Check for null values\n",
        "print(\"Null check\")\n",
        "print(df[df.hp == np.NaN])\n",
        "\n",
        "# Convert column types and create a base stat total column\n",
        "df.hp = df.hp.astype(\"int\")\n",
        "df.attack = df.attack.astype(\"int\")\n",
        "df.defence = df.defence.astype(\"int\")\n",
        "df.sp_attack = df.sp_attack.astype(\"int\")\n",
        "df.sp_defence = df.sp_defence.astype(\"int\")\n",
        "df.speed = df.speed.astype(\"int\")\n",
        "df[\"total\"] = df.hp + df.attack + df.defence + df.sp_attack + df.sp_defence + df.speed"
      ],
      "metadata": {
        "colab": {
          "base_uri": "https://localhost:8080/"
        },
        "id": "6Q6hXEb4w39Q",
        "outputId": "5150d38f-e5fb-4673-f97c-8522c9779b5d"
      },
      "execution_count": null,
      "outputs": [
        {
          "output_type": "stream",
          "name": "stdout",
          "text": [
            "   dex       name type_1  type_2  hp  attack  defence  sp_attack  sp_defence  \\\n",
            "0  001  Bulbasaur  Grass  Poison  45      49       49         65          65   \n",
            "1  002    Ivysaur  Grass  Poison  60      62       63         80          80   \n",
            "2  003   Venusaur  Grass  Poison  80      82       83        100         100   \n",
            "\n",
            "   speed  \n",
            "0     45  \n",
            "1     60  \n",
            "2     80  \n",
            "Null check\n",
            "Empty DataFrame\n",
            "Columns: [dex, name, type_1, type_2, hp, attack, defence, sp_attack, sp_defence, speed]\n",
            "Index: []\n"
          ]
        }
      ]
    },
    {
      "cell_type": "code",
      "source": [
        "# Save CSV\n",
        "df.to_csv(\"pokemon_gen_1_stats_types.csv\")"
      ],
      "metadata": {
        "id": "MpGCEYxvyctg"
      },
      "execution_count": null,
      "outputs": []
    },
    {
      "cell_type": "markdown",
      "source": [
        "#3- Type Distribution Analysis\n",
        "How many mono and dual-type pokemon of each type are there in Gen 1?"
      ],
      "metadata": {
        "id": "kkPliubLbZ7M"
      }
    },
    {
      "cell_type": "code",
      "source": [
        "# Print a list of all types by count in the pokedex\n",
        "types = df.type_1.unique()\n",
        "types_two = df.type_2.unique()\n",
        "missing_types = []\n",
        "\n",
        "for type_two_name in types_two:\n",
        "  if type_two_name not in types and type_two_name != \"\":\n",
        "    missing_types.append(type_two_name)\n",
        "\n",
        "type_list = np.append(missing_types,types)\n",
        "\n",
        "print(type_list)"
      ],
      "metadata": {
        "colab": {
          "base_uri": "https://localhost:8080/"
        },
        "id": "CQJPTg4KVA9F",
        "outputId": "ebe888cb-a728-46fe-a310-fd7676490c3c"
      },
      "execution_count": null,
      "outputs": [
        {
          "output_type": "stream",
          "name": "stdout",
          "text": [
            "['Flying' 'Grass' 'Fire' 'Water' 'Bug' 'Normal' 'Poison' 'Electric'\n",
            " 'Ground' 'Fighting' 'Psychic' 'Rock' 'Ghost' 'Ice' 'Dragon']\n"
          ]
        }
      ]
    },
    {
      "cell_type": "code",
      "source": [
        "# Count the number of times a type occurs in the pokedex\n",
        "type_counts = []\n",
        "for type_name in type_list:\n",
        "  number = df[(df.type_1 == type_name) | (df.type_2 == type_name)]\n",
        "  type_counts.append([type_name, len(number)])\n",
        "\n",
        "counts = pd.DataFrame(type_counts, columns=[\"type\",\"count\"])\n",
        "counts[\"count\"] = counts[\"count\"].astype(\"float\")\n",
        "counts_sorted = counts.sort_values(by=\"count\", ascending=True)\n",
        "print(counts_sorted)"
      ],
      "metadata": {
        "colab": {
          "base_uri": "https://localhost:8080/"
        },
        "id": "YV6dp2G0m0jO",
        "outputId": "4c7f1539-5bdf-4b46-c451-253ef6285f8e"
      },
      "execution_count": null,
      "outputs": [
        {
          "output_type": "stream",
          "name": "stdout",
          "text": [
            "        type  count\n",
            "12     Ghost    3.0\n",
            "14    Dragon    3.0\n",
            "13       Ice    5.0\n",
            "9   Fighting    8.0\n",
            "7   Electric    9.0\n",
            "11      Rock   11.0\n",
            "2       Fire   12.0\n",
            "4        Bug   12.0\n",
            "1      Grass   14.0\n",
            "8     Ground   14.0\n",
            "10   Psychic   14.0\n",
            "0     Flying   19.0\n",
            "5     Normal   24.0\n",
            "3      Water   32.0\n",
            "6     Poison   33.0\n"
          ]
        }
      ]
    },
    {
      "cell_type": "code",
      "source": [
        "# Visualise the type distirbution\n",
        "plt.barh(y=counts_sorted[\"type\"], width=counts_sorted[\"count\"], color=[\"rebeccapurple\",\"darkblue\",\"lightsteelblue\",\"orange\",\"yellow\",\"sienna\",\"firebrick\",\"olive\",\"green\",\"goldenrod\",\"orchid\",\"gainsboro\",\"darkgrey\",\"dodgerblue\",\"purple\"])\n",
        "plt.ylabel(\"Type\")\n",
        "plt.xlabel(\"Number of Pokemon\")\n",
        "plt.axvline(5,color=\"black\",linestyle=\"dotted\")\n",
        "plt.axvline(10,color=\"black\",linestyle=\"dotted\")\n",
        "plt.axvline(15,color=\"black\",linestyle=\"dotted\")\n",
        "plt.axvline(20,color=\"black\",linestyle=\"dotted\")\n",
        "plt.axvline(25,color=\"black\",linestyle=\"dotted\")\n",
        "plt.axvline(30,color=\"black\",linestyle=\"dotted\")\n",
        "plt.title(\"Gen 1 Pokemon count per type\")\n",
        "plt.show()\n",
        "plt.clf()"
      ],
      "metadata": {
        "colab": {
          "base_uri": "https://localhost:8080/",
          "height": 489
        },
        "id": "oBHfTAnrgk9M",
        "outputId": "59c9e979-36aa-4d4e-c66c-c8dcabbd4ced"
      },
      "execution_count": null,
      "outputs": [
        {
          "output_type": "display_data",
          "data": {
            "text/plain": [
              "<Figure size 640x480 with 1 Axes>"
            ],
            "image/png": "[encoded data removed]"
          },
          "metadata": {}
        },
        {
          "output_type": "display_data",
          "data": {
            "text/plain": [
              "<Figure size 640x480 with 0 Axes>"
            ]
          },
          "metadata": {}
        }
      ]
    },
    {
      "cell_type": "code",
      "source": [
        "# Count of mono type pokemon type distirbuitons\n",
        "mono_types = df[df.type_2 == \"\"]\n",
        "mono_type_values_counts = mono_types.type_1.value_counts().reset_index()\n",
        "mono_type_values_counts.columns = [\"type\",\"count\"]\n",
        "mono_type_values_counts = mono_type_values_counts.sort_values(by=\"count\", ascending=True)\n",
        "\n",
        "print(mono_type_values_counts)"
      ],
      "metadata": {
        "colab": {
          "base_uri": "https://localhost:8080/"
        },
        "id": "J3xwfhVHZxKF",
        "outputId": "a5db4243-fd40-4c93-d33d-4d975152b788"
      },
      "execution_count": null,
      "outputs": [
        {
          "output_type": "stream",
          "name": "stdout",
          "text": [
            "        type  count\n",
            "10     Grass      1\n",
            "9     Dragon      2\n",
            "8        Bug      3\n",
            "7     Ground      6\n",
            "6   Fighting      7\n",
            "4   Electric      8\n",
            "5    Psychic      8\n",
            "2       Fire     10\n",
            "3     Poison     10\n",
            "1     Normal     16\n",
            "0      Water     18\n"
          ]
        }
      ]
    },
    {
      "cell_type": "code",
      "source": [
        "# Visualise the type distirbution\n",
        "plt.barh(y=mono_type_values_counts[\"type\"], width=mono_type_values_counts[\"count\"], color=[\"green\",\"rebeccapurple\",\"olive\", \"goldenrod\", \"orange\",\"yellow\",\"orchid\",\"firebrick\", \"purple\",\"darkgrey\",\"dodgerblue\" ])\n",
        "plt.ylabel(\"Type\")\n",
        "plt.xlabel(\"Number of Pokemon\")\n",
        "plt.axvline(5,color=\"black\",linestyle=\"dotted\")\n",
        "plt.axvline(10,color=\"black\",linestyle=\"dotted\")\n",
        "plt.axvline(15,color=\"black\",linestyle=\"dotted\")\n",
        "plt.axvline(20,color=\"black\",linestyle=\"dotted\")\n",
        "plt.title(\"Gen 1 mono-type Pokemon count per type\")\n",
        "plt.show()\n",
        "plt.clf()"
      ],
      "metadata": {
        "colab": {
          "base_uri": "https://localhost:8080/",
          "height": 489
        },
        "id": "2jdgDXuupACy",
        "outputId": "05c62a60-c64c-4ae2-90d7-18ec16238989"
      },
      "execution_count": null,
      "outputs": [
        {
          "output_type": "display_data",
          "data": {
            "text/plain": [
              "<Figure size 640x480 with 1 Axes>"
            ],
            "image/png": "[encoded data removed]"
          },
          "metadata": {}
        },
        {
          "output_type": "display_data",
          "data": {
            "text/plain": [
              "<Figure size 640x480 with 0 Axes>"
            ]
          },
          "metadata": {}
        }
      ]
    },
    {
      "cell_type": "markdown",
      "source": [
        "#4- Stat Distribution Analysis\n",
        "What are the stat distributions for hp, attack, defence, special, speed and base stat total?"
      ],
      "metadata": {
        "id": "vhfF5ctOb-po"
      }
    },
    {
      "cell_type": "code",
      "source": [
        "# Create the main figure\n",
        "fig = plt.figure(figsize=(8,8))\n",
        "fig.suptitle(\"Gen 1 pokemon histograms\")\n",
        "\n",
        "# HP histogram\n",
        "plt.subplot(3,2,1)\n",
        "plt.hist(df.hp, bins=40)\n",
        "plt.axvline(np.mean(df.hp), color=\"red\")\n",
        "plt.title(\"HP Histogram\")\n",
        "\n",
        "# attack histogram\n",
        "plt.subplot(3,2,2)\n",
        "plt.hist(df.attack, bins=40)\n",
        "plt.axvline(np.mean(df.attack), color=\"red\")\n",
        "plt.title(\"Attack Histogram\")\n",
        "\n",
        "# defence histogram\n",
        "plt.subplot(3,2,3)\n",
        "plt.hist(df.defence, bins=40)\n",
        "plt.axvline(np.mean(df.defence), color=\"red\")\n",
        "plt.title(\"Defence Histogram\")\n",
        "\n",
        "# special histogram\n",
        "plt.subplot(3,2,4)\n",
        "plt.hist(df.sp_attack, bins=40)\n",
        "plt.axvline(np.mean(df.sp_attack), color=\"red\")\n",
        "plt.title(\"Special Histogram\")\n",
        "\n",
        "# special histogram\n",
        "plt.subplot(3,2,5)\n",
        "plt.hist(df.sp_attack, bins=40)\n",
        "plt.axvline(np.mean(df.speed), color=\"red\")\n",
        "plt.title(\"Speed Histogram\")\n",
        "\n",
        "# totals histogram\n",
        "plt.subplot(3,2,6)\n",
        "plt.hist(df.total, bins=40)\n",
        "plt.axvline(np.mean(df.total), color=\"red\")\n",
        "plt.title(\"Stat Total Histogram\")\n",
        "\n",
        "plt.tight_layout()\n",
        "plt.show()\n",
        "plt.clf()"
      ],
      "metadata": {
        "colab": {
          "base_uri": "https://localhost:8080/",
          "height": 823
        },
        "id": "fQ6DCCAYxTJA",
        "outputId": "141d879a-39e5-411a-c37e-e923cd96edb6"
      },
      "execution_count": null,
      "outputs": [
        {
          "output_type": "display_data",
          "data": {
            "text/plain": [
              "<Figure size 800x800 with 6 Axes>"
            ],
            "image/png": "[encoded data removed]"
          },
          "metadata": {}
        },
        {
          "output_type": "display_data",
          "data": {
            "text/plain": [
              "<Figure size 640x480 with 0 Axes>"
            ]
          },
          "metadata": {}
        }
      ]
    },
    {
      "cell_type": "markdown",
      "source": [
        "#5- Create move data frame\n",
        "Generate the data frame for each move to be used in the damage analysis and save to GitHub."
      ],
      "metadata": {
        "id": "8vIoryW9cROL"
      }
    },
    {
      "cell_type": "code",
      "source": [
        "# Pokemon move list DataFrame\n",
        "move_names = [\"Hyper Beam\", \"Psychic\", \"Thunder\", \"Explosion\", \"Fire Blast\",\"Hydro Pump\",\"Solar Beam\"]\n",
        "move_types = [\"Normal\", \"Psychic\", \"Electric\", \"Normal\", \"Fire\",\"Water\",\"Grass\"]\n",
        "move_power = [150, 90, 120, 170, 120, 120, 120]\n",
        "move_data = list(zip(move_names, move_types, move_power))\n",
        "\n",
        "move_list = pd.DataFrame(move_data, columns=[\"move_name\",\"type\",\"power\"])\n",
        "print(move_list)\n",
        "\n",
        "# Create csv\n",
        "move_list.to_csv(\"gen_1_powerful_moves.csv\")"
      ],
      "metadata": {
        "colab": {
          "base_uri": "https://localhost:8080/"
        },
        "id": "vcYxeWfd1HKz",
        "outputId": "fd24d170-352c-4c18-f6b3-cd1b0f6ad1df"
      },
      "execution_count": null,
      "outputs": [
        {
          "output_type": "stream",
          "name": "stdout",
          "text": [
            "    move_name      type  power\n",
            "0  Hyper Beam    Normal    150\n",
            "1     Psychic   Psychic     90\n",
            "2     Thunder  Electric    120\n",
            "3   Explosion    Normal    170\n",
            "4  Fire Blast      Fire    120\n",
            "5  Hydro Pump     Water    120\n",
            "6  Solar Beam     Grass    120\n"
          ]
        }
      ]
    },
    {
      "cell_type": "markdown",
      "source": [
        "#6- Calculations and formula\n",
        "Creation of the functions to find type effectiveness, calculate pokemon stats and extract those values from the DataFrame by passing the pokemon names as arguments."
      ],
      "metadata": {
        "id": "hmTcLb6ccfGl"
      }
    },
    {
      "cell_type": "markdown",
      "source": [
        "## Type Effectiveness Formula\n",
        "Creation of the functions to find type effectiveness, calculate pokemon stats and extract those values from the DataFrame by passing the pokemon names as arguments."
      ],
      "metadata": {
        "id": "x0qpZd8TMQOb"
      }
    },
    {
      "cell_type": "code",
      "source": [
        "# Import from GitHub after saving CSVs\n",
        "poke_df = pd.read_csv(\"https://raw.githubusercontent.com/thecyberdragon/data-analysis/main/pokemon_gen_1/pokemon_gen_1_stats_types.csv\")\n",
        "move_df = pd.read_csv(\"https://raw.githubusercontent.com/thecyberdragon/data-analysis/main/pokemon_gen_1/gen_1_powerful_moves.csv\")\n",
        "\n",
        "print(poke_df.head())\n",
        "print(move_df.head())"
      ],
      "metadata": {
        "colab": {
          "base_uri": "https://localhost:8080/"
        },
        "id": "XXWB0F9kWp6Q",
        "outputId": "a1ea4792-51d2-443f-ab19-d91a44978d97"
      },
      "execution_count": null,
      "outputs": [
        {
          "output_type": "stream",
          "name": "stdout",
          "text": [
            "   Unnamed: 0  dex        name type_1  type_2  hp  attack  defence  sp_attack  \\\n",
            "0           0    1   Bulbasaur  Grass  Poison  45      49       49         65   \n",
            "1           1    2     Ivysaur  Grass  Poison  60      62       63         80   \n",
            "2           2    3    Venusaur  Grass  Poison  80      82       83        100   \n",
            "3           3    4  Charmander   Fire     NaN  39      52       43         50   \n",
            "4           4    5  Charmeleon   Fire     NaN  58      64       58         65   \n",
            "\n",
            "   sp_defence  speed  total  \n",
            "0          65     45    318  \n",
            "1          80     60    405  \n",
            "2         100     80    525  \n",
            "3          50     65    299  \n",
            "4          65     80    390  \n",
            "   Unnamed: 0   move_name      type  power\n",
            "0           0  Hyper Beam    Normal    150\n",
            "1           1     Psychic   Psychic     90\n",
            "2           2     Thunder  Electric    120\n",
            "3           3   Explosion    Normal    170\n",
            "4           4  Fire Blast      Fire    120\n"
          ]
        }
      ]
    },
    {
      "cell_type": "code",
      "source": [
        "# Type Effectiveness Calculation\n",
        "def TypeEffectiveness(attacking_type, typing):\n",
        "\n",
        "  # Establish type weaknesses and strengths\n",
        "  normal = {\"Rock\":0.5, \"Ghost\":0}\n",
        "  fire = {\"Fire\":0.5, \"Water\":0.5, \"Grass\":2, \"Ice\":2, \"Bug\":2, \"Rock\":0.5, \"Dragon\":0.5}\n",
        "  water = {\"Fire\":2, \"Water\":0.5, \"Grass\":0.5, \"Ground\":2, \"Rock\":2, \"Dragon\":0.5}\n",
        "  electric = {\"Water\":2, \"Electric\":0.5, \"Grass\":0.5, \"Ground\":0, \"Flying\":2, \"Dragon\":0.5}\n",
        "  grass = {\"Fire\":0.5, \"Water\":2, \"Grass\":0.5, \"Poison\":0.5, \"Ground\":2, \"Flying\":0.5, \"Bug\":0.5, \"Rock\":2, \"Dragon\":0.5}\n",
        "  ice = {\"Water\":0.5, \"Grass\":2, \"Ice\":0.5, \"Flying\":2, \"Dragon\":2}\n",
        "  fighting = {\"Normal\":2, \"Ice\":2, \"Poison\":0.5, \"Flying\":0.5, \"Psychic\":0.5, \"Bug\":0.5, \"Rock\":2, \"Ghost\":0}\n",
        "  poison = {\"Grass\":2, \"Poison\":0.5, \"Ground\":0.5, \"Bug\":2, \"Rock\":0.5, \"Ghost\":0.5}\n",
        "  ground = {\"Fire\":2, \"Electric\":2, \"Grass\":0.5, \"Poison\":2, \"Flying\":0, \"Bug\":0.5, \"Rock\":2}\n",
        "  flying = {\"Electric\":0.5, \"Grass\":2, \"Fighting\":2, \"Bug\":2, \"Rock\":0.5}\n",
        "  psychic = {\"Fighting\":2, \"Poison\":2, \"Psychic\":0.5}\n",
        "  bug = {\"Fire\":0.5, \"Grass\":2, \"Fighting\":0.5, \"Poison\":2, \"Flying\":0.5, \"Psychic\":2, \"Ghost\":0.5}\n",
        "  rock = {\"Fire\":2, \"Ice\":2, \"Fighting\":0.5, \"Ground\":0.5, \"Flying\":2, \"Bug\":2}\n",
        "  ghost = {\"Ghost\":2}\n",
        "  dragon = {\"Dragon\":2}\n",
        "\n",
        "  # Consolidate dictionaries into a master dictionary\n",
        "  type_dictionary = {\"Normal\":normal, \"Fire\":fire, \"Water\":water, \"Electric\":electric, \"Grass\":grass, \"Ice\":ice, \"Fighting\":fighting,\n",
        "                     \"Poison\":poison, \"Ground\":ground, \"Flying\":flying, \"Psychic\":psychic, \"Bug\":bug, \"Rock\":rock, \"Ghost\":ghost, \"Dragon\":dragon }\n",
        "\n",
        "  # Set the damage variable\n",
        "  damage = 1\n",
        "\n",
        "  # For each type of the defending pokemon\n",
        "  for poketype in typing:\n",
        "\n",
        "    # Switch to call the master dictionary\n",
        "    if poketype != \"\":\n",
        "      match attacking_type:\n",
        "        case \"Normal\":\n",
        "          if poketype in type_dictionary.get(\"Normal\").keys(): damage *= normal[poketype]\n",
        "        case \"Fire\":\n",
        "          if poketype in type_dictionary.get(\"Fire\").keys(): damage *= fire[poketype]\n",
        "        case \"Water\":\n",
        "          if poketype in type_dictionary.get(\"Water\").keys(): damage *= water[poketype]\n",
        "        case \"Electric\":\n",
        "          if poketype in type_dictionary.get(\"Electric\").keys(): damage *= electric[poketype]\n",
        "        case \"Grass\":\n",
        "          if poketype in type_dictionary.get(\"Grass\").keys(): damage *= grass[poketype]\n",
        "        case \"Ice\":\n",
        "          if poketype in type_dictionary.get(\"Ice\").keys(): damage *= ice[poketype]\n",
        "        case \"Fighting\":\n",
        "          if poketype in type_dictionary.get(\"Fighting\").keys(): damage *= fighting[poketype]\n",
        "        case \"Poison\":\n",
        "          if poketype in type_dictionary.get(\"Poison\").keys(): damage *= poison[poketype]\n",
        "        case \"Ground\":\n",
        "          if poketype in type_dictionary.get(\"Ground\").keys(): damage *= ground[poketype]\n",
        "        case \"Flying\":\n",
        "          if poketype in type_dictionary.get(\"Flying\").keys(): damage *= flying[poketype]\n",
        "        case \"Psychic\":\n",
        "          if poketype in type_dictionary.get(\"Psychic\").keys(): damage *= psychic[poketype]\n",
        "        case \"Bug\":\n",
        "          if poketype in type_dictionary.get(\"Bug\").keys(): damage *= bug[poketype]\n",
        "        case \"Rock\":\n",
        "          if poketype in type_dictionary.get(\"Rock\").keys(): damage *= rock[poketype]\n",
        "        case \"Ghost\":\n",
        "          if poketype in type_dictionary.get(\"Ghost\").keys(): damage *= ghost[poketype]\n",
        "        case \"Dragon\":\n",
        "          if poketype in type_dictionary.get(\"Dragon\").keys(): damage *= dragon[poketype]\n",
        "\n",
        "  # Return combined damage\n",
        "  return damage"
      ],
      "metadata": {
        "id": "QRYMenUAXCnb"
      },
      "execution_count": null,
      "outputs": []
    },
    {
      "cell_type": "code",
      "source": [
        "# Level 100 stats calculation (max IVs, max EVs)\n",
        "# Max IV = 1111 = 15\n",
        "# HP IV = 1111 = 15\n",
        "# EVs per stat = 65535\n",
        "\n",
        "def MaxLvl100Stats(hp, attack, defence, sp_atk, sp_def, speed):\n",
        "\n",
        "  # Calculate each stat with perfect IV and EVs\n",
        "  hp_stat = (((((hp + 15) * 2) + ((65535 ** 0.5)/4)) * 100) / 100) + 100 + 10\n",
        "  attack_stat = (((((attack + 15) * 2) + ((attack ** 0.5))/4) * 100) / 100) + 5\n",
        "  defence_stat = (((((defence + 15) * 2) + ((defence ** 0.5))/4) * 100) / 100) + 5\n",
        "  special_atk_stat = (((((sp_atk + 15) * 2) + ((sp_atk ** 0.5))/4) * 100) / 100) + 5\n",
        "  special_def_stat = (((((sp_def + 15) * 2) + ((sp_def ** 0.5))/4) * 100) / 100) + 5\n",
        "  speed_stat = (((((speed + 15) * 2) + ((speed ** 0.5))/4) * 100) / 100) + 5\n",
        "\n",
        "  # Return as a list\n",
        "  return int(np.floor(hp_stat)),int(np.floor(attack_stat)),int(np.floor(defence_stat)),int(np.floor(special_atk_stat)),int(np.floor(special_def_stat)) , int(np.floor(speed_stat))\n",
        "\n",
        "def ExtractPokemonStats(pokemon):\n",
        "\n",
        "  # Find stats of this pokemon\n",
        "  this_pokemon = poke_df[poke_df.name == pokemon].reset_index()\n",
        "\n",
        "  # Extract values from DataFrame\n",
        "  hp = this_pokemon.loc[0,\"hp\"]\n",
        "  attack = this_pokemon.loc[0,\"attack\"]\n",
        "  defence = this_pokemon.loc[0,\"defence\"]\n",
        "  special_attack = this_pokemon.loc[0,\"sp_attack\"]\n",
        "  special_defence = this_pokemon.loc[0,\"sp_defence\"]\n",
        "  speed = this_pokemon.loc[0,\"speed\"]\n",
        "\n",
        "  # Return as a list\n",
        "  return[hp, attack, defence, special_attack, special_defence, speed]\n",
        "\n",
        "def ExtractAndCalculateStats(pokemon, explain):\n",
        "  # Extract the base stats\n",
        "  base_stats = ExtractPokemonStats(pokemon)\n",
        "  # Calculate the maximum stats\n",
        "  max_stats = MaxLvl100Stats(base_stats[0],base_stats[1],base_stats[2],base_stats[3],base_stats[4],base_stats[5])\n",
        "  # Display for the user\n",
        "  if explain == True:\n",
        "    print(\"Pokemon: \" + pokemon)\n",
        "    print(\"HP: \" + str(max_stats[0]))\n",
        "    print(\"Attack: \" + str(max_stats[1]))\n",
        "    print(\"Defence: \" + str(max_stats[2]))\n",
        "    print(\"Special Attack: \" + str(max_stats[3]))\n",
        "    print(\"Special Defence: \" + str(max_stats[4]))\n",
        "    print(\"Speed: \" + str(max_stats[5]))\n",
        "\n",
        "  return max_stats"
      ],
      "metadata": {
        "id": "KJkUV0K7i5D3"
      },
      "execution_count": null,
      "outputs": []
    },
    {
      "cell_type": "code",
      "source": [
        "# Dual type test\n",
        "charizard = poke_df[poke_df.name == \"Charizard\"]\n",
        "print(\"Charizard!\")\n",
        "charizard_typing = charizard.type_1.values.tolist() + charizard.type_2.values.tolist()\n",
        "print(\"Typing: \" + str(charizard_typing))\n",
        "print(\"You threw a rock at the spicy boi. You did \" + str(TypeEffectiveness(\"Rock\",charizard_typing)) + \"x damage!\")\n",
        "print(\"You shook the ground a bit. You did \" + str(TypeEffectiveness(\"Ground\",charizard_typing)) + \"x damage!\")\n",
        "print(\"Boo! You made a big spook. You did \" + str(TypeEffectiveness(\"Ghost\",charizard_typing)) + \"x damage!\")\n",
        "print(\"Zappy zappy! You did \" + str(TypeEffectiveness(\"Electric\",charizard_typing)) + \"x damage!\")\n",
        "\n",
        "# Mono type test\n",
        "pikachu = poke_df[poke_df.name == \"Pikachu\"]\n",
        "print(\"\\nPika pika!\")\n",
        "pikachu_typing = pikachu.type_1.values.tolist() + pikachu.type_2.values.tolist()\n",
        "print(\"Typing: \" + str(pikachu_typing))\n",
        "print(\"You threw a rock at the zappy lad. You did \" + str(TypeEffectiveness(\"Rock\",pikachu_typing)) + \"x damage!\")\n",
        "print(\"You turned into a bug. You did \" + str(TypeEffectiveness(\"Bug\",pikachu_typing)) + \"x damage!\")\n",
        "print(\"You made the ground move abit. You did \" + str(TypeEffectiveness(\"Ground\",pikachu_typing)) + \"x damage!\")"
      ],
      "metadata": {
        "colab": {
          "base_uri": "https://localhost:8080/"
        },
        "id": "6Y-S4bvdbFWn",
        "outputId": "b6597d08-78bf-4955-9f5b-a80cd0393613"
      },
      "execution_count": null,
      "outputs": [
        {
          "output_type": "stream",
          "name": "stdout",
          "text": [
            "Charizard!\n",
            "Typing: ['Fire', 'Flying']\n",
            "You threw a rock at the spicy boi. You did 4x damage!\n",
            "You shook the ground a bit. You did 0x damage!\n",
            "Boo! You made a big spook. You did 1x damage!\n",
            "Zappy zappy! You did 2x damage!\n",
            "\n",
            "Pika pika!\n",
            "Typing: ['Electric', nan]\n",
            "You threw a rock at the zappy lad. You did 1x damage!\n",
            "You turned into a bug. You did 1x damage!\n",
            "You made the ground move abit. You did 2x damage!\n"
          ]
        }
      ]
    },
    {
      "cell_type": "code",
      "source": [
        "# Stat Calculation Test\n",
        "print()\n",
        "pikachu = ExtractAndCalculateStats(\"Pikachu\", True)\n",
        "print()\n",
        "mewtwo = ExtractAndCalculateStats(\"Mewtwo\", True)"
      ],
      "metadata": {
        "colab": {
          "base_uri": "https://localhost:8080/"
        },
        "id": "flqwJIONsdBP",
        "outputId": "5de65524-573b-47d1-e968-87740758a9ad"
      },
      "execution_count": null,
      "outputs": [
        {
          "output_type": "stream",
          "name": "stdout",
          "text": [
            "\n",
            "Pokemon: Pikachu\n",
            "HP: 273\n",
            "Attack: 146\n",
            "Defence: 96\n",
            "Special Attack: 136\n",
            "Special Defence: 136\n",
            "Speed: 217\n",
            "\n",
            "Pokemon: Mewtwo\n",
            "HP: 415\n",
            "Attack: 257\n",
            "Defence: 217\n",
            "Special Attack: 346\n",
            "Special Defence: 346\n",
            "Speed: 297\n"
          ]
        }
      ]
    },
    {
      "cell_type": "markdown",
      "source": [
        "## Level 100 stat calculation\n",
        "Generate the maximum level 100 stats of each pokemon and saving to a new DataFrame and exporting to GitHub."
      ],
      "metadata": {
        "id": "3Uxw-sPjc_u7"
      }
    },
    {
      "cell_type": "code",
      "source": [
        "# Add stats to dataframe\n",
        "pokemon_names = poke_df.name.values.tolist()\n",
        "poke_df_100 = poke_df.copy()\n",
        "\n",
        "for pokemon in pokemon_names:\n",
        "\n",
        "  # Calculate all level 100 stats\n",
        "  lvl100_stats = ExtractAndCalculateStats(pokemon,False)\n",
        "  hp_100 = lvl100_stats[0]\n",
        "  atk_100 = lvl100_stats[1]\n",
        "  def_100 = lvl100_stats[2]\n",
        "  spatk_100 = lvl100_stats[3]\n",
        "  spdef_100 = lvl100_stats[4]\n",
        "  speed_100 = lvl100_stats[5]\n",
        "\n",
        "  #Find in DataFrame and add it\n",
        "  poke_df_100.loc[poke_df_100.name == pokemon, \"hp_100\"] = hp_100\n",
        "  poke_df_100.loc[poke_df_100.name == pokemon, \"atk_100\"] = atk_100\n",
        "  poke_df_100.loc[poke_df_100.name == pokemon, \"def_100\"] = def_100\n",
        "  poke_df_100.loc[poke_df_100.name == pokemon, \"spatk_100\"] = spatk_100\n",
        "  poke_df_100.loc[poke_df_100.name == pokemon, \"spdef_100\"] = spdef_100\n",
        "  poke_df_100.loc[poke_df_100.name == pokemon, \"speed_100\"] = speed_100\n",
        "\n",
        "# Convert the data types\n",
        "poke_df_100.atk_100 = poke_df_100.atk_100.astype(\"int\")\n",
        "poke_df_100.def_100 = poke_df_100.def_100.astype(\"int\")\n",
        "poke_df_100.spatk_100 = poke_df_100.spatk_100.astype(\"int\")\n",
        "poke_df_100.spdef_100 = poke_df_100.spdef_100.astype(\"int\")\n",
        "poke_df_100.speed_100 = poke_df_100.speed_100.astype(\"int\")\n",
        "\n",
        "# Drop original stat columns\n",
        "poke_df_100.drop(\"hp\",axis=1,inplace=True)\n",
        "poke_df_100.drop(\"attack\",axis=1,inplace=True)\n",
        "poke_df_100.drop(\"defence\",axis=1,inplace=True)\n",
        "poke_df_100.drop(\"sp_attack\",axis=1,inplace=True)\n",
        "poke_df_100.drop(\"sp_defence\",axis=1,inplace=True)\n",
        "poke_df_100.drop(\"speed\",axis=1,inplace=True)\n",
        "poke_df_100.drop(\"total\",axis=1,inplace=True)\n",
        "\n",
        "# Print the head and export CSV\n",
        "print(poke_df_100.head(10))\n",
        "poke_df_100.to_csv(\"pokemon_gen_1_level_100_stats_types.csv\")\n"
      ],
      "metadata": {
        "id": "dTLnEdzdsx4x",
        "colab": {
          "base_uri": "https://localhost:8080/"
        },
        "outputId": "6f4f62ac-6dcf-447c-dc68-6595b9432b3c"
      },
      "execution_count": null,
      "outputs": [
        {
          "output_type": "stream",
          "name": "stdout",
          "text": [
            "   Unnamed: 0  dex        name type_1  type_2  hp_100  atk_100  def_100  \\\n",
            "0           0    1   Bulbasaur  Grass  Poison   293.0      134      134   \n",
            "1           1    2     Ivysaur  Grass  Poison   323.0      160      162   \n",
            "2           2    3    Venusaur  Grass  Poison   363.0      201      203   \n",
            "3           3    4  Charmander   Fire     NaN   281.0      140      122   \n",
            "4           4    5  Charmeleon   Fire     NaN   319.0      165      152   \n",
            "5           5    6   Charizard   Fire  Flying   359.0      205      193   \n",
            "6           6    7    Squirtle  Water     NaN   291.0      132      167   \n",
            "7           7    8   Wartortle  Water     NaN   321.0      162      197   \n",
            "8           8    9   Blastoise  Water     NaN   361.0      203      237   \n",
            "9           9   10    Caterpie    Bug     NaN   293.0       96      106   \n",
            "\n",
            "   spatk_100  spdef_100  speed_100  \n",
            "0        167        167        126  \n",
            "1        197        197        156  \n",
            "2        237        237        197  \n",
            "3        136        136        167  \n",
            "4        167        167        197  \n",
            "5        207        207        237  \n",
            "6        136        136        122  \n",
            "7        167        167        152  \n",
            "8        207        207        193  \n",
            "9         76         76        126  \n"
          ]
        }
      ]
    },
    {
      "cell_type": "code",
      "source": [
        "# Import from GitHub after saving CSVs (updated)\n",
        "poke_df = pd.read_csv(\"https://raw.githubusercontent.com/thecyberdragon/data-analysis/main/pokemon_gen_1/pokemon_gen_1_stats_types.csv\")\n",
        "move_df = pd.read_csv(\"https://raw.githubusercontent.com/thecyberdragon/data-analysis/main/pokemon_gen_1/gen_1_powerful_moves.csv\")\n",
        "poke_df_lvl100 = pd.read_csv(\"https://raw.githubusercontent.com/thecyberdragon/data-analysis/main/pokemon_gen_1/pokemon_gen_1_level_100_stats_types.csv\")"
      ],
      "metadata": {
        "id": "Yt_OmpLtuZak"
      },
      "execution_count": null,
      "outputs": []
    },
    {
      "cell_type": "markdown",
      "source": [
        "## Damage calculation   \n",
        "Taking an attacking and defending pokemon by name and passing a move name to calculate battle damage"
      ],
      "metadata": {
        "id": "gCFna_OjMexG"
      }
    },
    {
      "cell_type": "code",
      "source": [
        "# Damage Calculation\n",
        "def CalculateDamage(attacking_pokemon, defending_pokemon, move):\n",
        "\n",
        "  # Extract values from DataFrames\n",
        "  attacker_stats = poke_df_lvl100[poke_df_lvl100.name == attacking_pokemon].reset_index()\n",
        "  attacker_type = [attacker_stats.loc[0,\"type_1\"], attacker_stats.loc[0,\"type_2\"]]\n",
        "\n",
        "  defender_stats = poke_df_lvl100[poke_df_lvl100.name == defending_pokemon].reset_index()\n",
        "  defender_type = [str(defender_stats.loc[0,\"type_1\"]) , str(defender_stats.loc[0,\"type_2\"])]\n",
        "\n",
        "  move_used = move_df[move_df.move_name == move].reset_index()\n",
        "  move_name = move_used.loc[0,\"move_name\"]\n",
        "  move_power = move_used.loc[0,\"power\"]\n",
        "  move_type = move_used.loc[0,\"type\"]\n",
        "\n",
        "  # Extract attack stats of attacker\n",
        "  attacker_atk = attacker_stats.loc[0,\"atk_100\"]\n",
        "  attacker_spatk = attacker_stats.loc[0,\"spatk_100\"]\n",
        "\n",
        "  # Extract defences of defender\n",
        "  defender_def = defender_stats.loc[0,\"def_100\"]\n",
        "  if move_name == \"Explosion\": defender_def = defender_def/2\n",
        "  defender_spdef = defender_stats.loc[0,\"spdef_100\"]\n",
        "\n",
        "  # Physical special typings\n",
        "  physical_types = [\"Bug\",\"Fighting\",\"Flying\",\"Ghost\",\"Ground\",\"Normal\",\"Poison\",\"Rock\"]\n",
        "  special_types = [\"Dragon\",\"Electric\",\"Fire\",\"Grass\",\"Ice\",\"Psychic\",\"Water\"]\n",
        "\n",
        "  # Set final attack and defence stats based on move typing\n",
        "  attack_stat = 0\n",
        "  defence_stat = 0\n",
        "  if move_type in physical_types: attack_stat = attacker_atk; defence_stat = defender_def\n",
        "  else: attack_stat = attacker_spatk; defence_stat = defender_spdef\n",
        "\n",
        "  # Calculate stab\n",
        "  stab = 1\n",
        "  if move_type in attacker_type: stab = 1.5\n",
        "\n",
        "  # Calculate type effectiveness\n",
        "  multiplier = TypeEffectiveness(move_type, defender_type)\n",
        "\n",
        "  # Calculate damage\n",
        "  base_damage = np.floor(np.floor(((np.floor((100 * 2) / 5) + 2) * move_power * attack_stat) / defence_stat) / 50) + 2\n",
        "  modified_damage = base_damage * multiplier\n",
        "\n",
        "  return modified_damage"
      ],
      "metadata": {
        "id": "MaIeo-gqwKN5"
      },
      "execution_count": null,
      "outputs": []
    },
    {
      "cell_type": "markdown",
      "source": [
        "#7- Calculating type coverage for the pokedex\n",
        "Using the calculation funtions to see type effectiveness for every pokemon in the pokedex and creating a new DataFrame, then turning it into a pivot table for visualisation."
      ],
      "metadata": {
        "id": "5xSd169Idlu1"
      }
    },
    {
      "cell_type": "code",
      "source": [
        "# Type effectiveness per type over the whole pokedex\n",
        "poke_type_coverage_df = poke_df.copy()\n",
        "poke_type_coverage_df.drop(\"hp\",axis=1,inplace=True)\n",
        "poke_type_coverage_df.drop(\"attack\",axis=1,inplace=True)\n",
        "poke_type_coverage_df.drop(\"defence\",axis=1,inplace=True)\n",
        "poke_type_coverage_df.drop(\"sp_attack\",axis=1,inplace=True)\n",
        "poke_type_coverage_df.drop(\"sp_defence\",axis=1,inplace=True)\n",
        "poke_type_coverage_df.drop(\"speed\",axis=1,inplace=True)\n",
        "poke_type_coverage_df.drop(\"total\",axis=1,inplace=True)\n",
        "\n",
        "types = [\"Normal\", \"Fire\", \"Water\", \"Electric\", \"Grass\", \"Ice\", \"Fighting\", \"Poison\", \"Ground\", \"Flying\", \"Psychic\", \"Bug\", \"Rock\", \"Ghost\", \"Dragon\"]\n",
        "\n",
        "for type_name in types:\n",
        "  for idx, row in poke_type_coverage_df.iterrows():\n",
        "    pokemon = row[\"name\"]\n",
        "    typing = [row.type_1, row.type_2]\n",
        "    effectiveness = TypeEffectiveness(type_name, typing)\n",
        "    poke_type_coverage_df.loc[poke_type_coverage_df.name == pokemon, type_name] = effectiveness\n",
        "\n",
        "print(poke_type_coverage_df.head())\n",
        "poke_type_coverage_df.to_csv(\"pokemon_gen_1_type_coverage.csv\")"
      ],
      "metadata": {
        "id": "7dj7h-9o3GUG",
        "colab": {
          "base_uri": "https://localhost:8080/"
        },
        "outputId": "970ce7d9-b742-49b0-d0c5-0edf7439fbe6"
      },
      "execution_count": null,
      "outputs": [
        {
          "output_type": "stream",
          "name": "stdout",
          "text": [
            "   Unnamed: 0  dex        name type_1  type_2  Normal  Fire  Water  Electric  \\\n",
            "0           0    1   Bulbasaur  Grass  Poison     1.0   2.0    0.5       0.5   \n",
            "1           1    2     Ivysaur  Grass  Poison     1.0   2.0    0.5       0.5   \n",
            "2           2    3    Venusaur  Grass  Poison     1.0   2.0    0.5       0.5   \n",
            "3           3    4  Charmander   Fire     NaN     1.0   0.5    2.0       1.0   \n",
            "4           4    5  Charmeleon   Fire     NaN     1.0   0.5    2.0       1.0   \n",
            "\n",
            "   Grass  Ice  Fighting  Poison  Ground  Flying  Psychic  Bug  Rock  Ghost  \\\n",
            "0   0.25  2.0       0.5     1.0     1.0     2.0      2.0  4.0   1.0    1.0   \n",
            "1   0.25  2.0       0.5     1.0     1.0     2.0      2.0  4.0   1.0    1.0   \n",
            "2   0.25  2.0       0.5     1.0     1.0     2.0      2.0  4.0   1.0    1.0   \n",
            "3   0.50  1.0       1.0     1.0     2.0     1.0      1.0  0.5   2.0    1.0   \n",
            "4   0.50  1.0       1.0     1.0     2.0     1.0      1.0  0.5   2.0    1.0   \n",
            "\n",
            "   Dragon  \n",
            "0     1.0  \n",
            "1     1.0  \n",
            "2     1.0  \n",
            "3     1.0  \n",
            "4     1.0  \n"
          ]
        }
      ]
    },
    {
      "cell_type": "code",
      "source": [
        "# Read CSV from github back as a variable\n",
        "poke_coverage_df = pd.read_csv(\"https://raw.githubusercontent.com/thecyberdragon/data-analysis/main/pokemon_gen_1/pokemon_gen_1_type_coverage.csv\")"
      ],
      "metadata": {
        "id": "hfSckhVP1OUH"
      },
      "execution_count": null,
      "outputs": []
    },
    {
      "cell_type": "code",
      "source": [
        "# Setting value count DF's for barcharts\n",
        "normal_values = poke_coverage_df.Normal.value_counts().reset_index(); normal_values.columns=[\"multi\",\"count\"]; normal_values[\"type\"] = \"Normal\"\n",
        "fire_values = poke_coverage_df.Fire.value_counts().reset_index(); fire_values.columns=[\"multi\",\"count\"]; fire_values[\"type\"] = \"Fire\"\n",
        "water_values = poke_coverage_df.Water.value_counts().reset_index(); water_values.columns=[\"multi\",\"count\"]; water_values[\"type\"] = \"Water\"\n",
        "electric_values = poke_coverage_df.Electric.value_counts().reset_index(); electric_values.columns=[\"multi\",\"count\"]; electric_values[\"type\"] = \"Electric\"\n",
        "grass_values = poke_coverage_df.Grass.value_counts().reset_index(); grass_values.columns=[\"multi\",\"count\"]; grass_values[\"type\"] = \"Grass\"\n",
        "ice_values = poke_coverage_df.Ice.value_counts().reset_index(); ice_values.columns=[\"multi\",\"count\"]; ice_values[\"type\"] = \"Ice\"\n",
        "fighting_values = poke_coverage_df.Fighting.value_counts().reset_index(); fighting_values.columns=[\"multi\",\"count\"]; fighting_values[\"type\"] = \"Fighting\"\n",
        "poison_values = poke_coverage_df.Poison.value_counts().reset_index(); poison_values.columns=[\"multi\",\"count\"]; poison_values[\"type\"] = \"Poison\"\n",
        "ground_values = poke_coverage_df.Ground.value_counts().reset_index(); ground_values.columns=[\"multi\",\"count\"]; ground_values[\"type\"] = \"Ground\"\n",
        "flying_values = poke_coverage_df.Flying.value_counts().reset_index(); flying_values.columns=[\"multi\",\"count\"]; flying_values[\"type\"] = \"Flying\"\n",
        "psychic_values = poke_coverage_df.Psychic.value_counts().reset_index(); psychic_values.columns=[\"multi\",\"count\"]; psychic_values[\"type\"] = \"Psychic\"\n",
        "bug_values = poke_coverage_df.Bug.value_counts().reset_index(); bug_values.columns=[\"multi\",\"count\"]; bug_values[\"type\"] = \"Bug\"\n",
        "rock_values = poke_coverage_df.Rock.value_counts().reset_index(); rock_values.columns=[\"multi\",\"count\"];rock_values[\"type\"] = \"Rock\"\n",
        "ghost_values = poke_coverage_df.Ghost.value_counts().reset_index(); ghost_values.columns=[\"multi\",\"count\"]; ghost_values[\"type\"] = \"Ghost\"\n",
        "dragon_values = poke_coverage_df.Dragon.value_counts().reset_index(); dragon_values.columns=[\"multi\",\"count\"]; dragon_values[\"type\"] = \"Dragon\"\n",
        "\n",
        "coverage_grouped = pd.concat([normal_values, fire_values, water_values, electric_values, grass_values, ice_values,\n",
        "                              fighting_values, poison_values, ground_values, flying_values, psychic_values,\n",
        "                              bug_values, rock_values, ghost_values,dragon_values])\n",
        "\n",
        "pivot_coverage = coverage_grouped.pivot(\n",
        "    columns=\"multi\",\n",
        "    index=\"type\",\n",
        "    values=\"count\"\n",
        ").reset_index()\n",
        "\n",
        "pivot_coverage = pivot_coverage.fillna(0.0)\n",
        "custom_range = [12,15,4,7,2,10,14,5,9,6,1,8,11,13,3]\n",
        "for index, row in pivot_coverage.iterrows():\n",
        "  pivot_coverage.at[index,\"order\"] = custom_range[index]\n",
        "pivot_coverage= pivot_coverage.sort_values(by=\"order\", ascending=False)\n",
        "pivot_coverage.to_csv(\"pokemon_gen_1_type_coverage_pivot.csv\")\n",
        "print(pivot_coverage)\n",
        "print(pivot_coverage.columns)"
      ],
      "metadata": {
        "colab": {
          "base_uri": "https://localhost:8080/"
        },
        "id": "atu4rLwZs9Gg",
        "outputId": "e319ce79-95d4-4e6a-f215-9f84d440f426"
      },
      "execution_count": null,
      "outputs": [
        {
          "output_type": "stream",
          "name": "stdout",
          "text": [
            "multi      type   0.0  0.25   0.5    1.0   2.0   4.0  order\n",
            "1        Dragon   0.0   0.0   0.0  148.0   3.0   0.0   15.0\n",
            "6         Ghost   0.0   0.0   0.0  148.0   3.0   0.0   14.0\n",
            "13         Rock   0.0   0.0  22.0   86.0  38.0   5.0   13.0\n",
            "0           Bug   0.0   2.0  33.0   71.0  34.0  11.0   12.0\n",
            "12      Psychic   0.0   0.0  14.0   96.0  41.0   0.0   11.0\n",
            "5        Flying   0.0   0.0  20.0   99.0  30.0   2.0   10.0\n",
            "8        Ground  19.0   2.0   6.0   79.0  45.0   0.0    9.0\n",
            "11       Poison   0.0  11.0  25.0  105.0   8.0   2.0    8.0\n",
            "3      Fighting   3.0   9.0  46.0   64.0  29.0   0.0    7.0\n",
            "9           Ice   0.0   3.0  29.0   86.0  32.0   1.0    6.0\n",
            "7         Grass   0.0  23.0  41.0   46.0  31.0  10.0    5.0\n",
            "2      Electric  14.0   0.0  24.0   65.0  47.0   1.0    4.0\n",
            "14        Water   0.0   0.0  45.0   79.0  21.0   6.0    3.0\n",
            "4          Fire   0.0   4.0  47.0   74.0  24.0   2.0    2.0\n",
            "10       Normal   3.0   0.0  11.0  137.0   0.0   0.0    1.0\n",
            "Index(['type', 0.0, 0.25, 0.5, 1.0, 2.0, 4.0, 'order'], dtype='object', name='multi')\n"
          ]
        }
      ]
    },
    {
      "cell_type": "code",
      "source": [
        "# Chart plots of multipliers in the pokedex by type\n",
        "colour_list = [\"darkblue\",\"rebeccapurple\",\"sienna\",\"olive\",\"orchid\",\"gainsboro\",\"goldenrod\",\"purple\",\"orange\",\"lightsteelblue\",\"green\",\"yellow\",\"dodgerblue\",\"firebrick\",\"darkgrey\"]\n",
        "\n",
        "fig = plt.figure(figsize=(10,10))\n",
        "fig.suptitle(\"Move Coverage By Multiplier\")\n",
        "\n",
        "ax = plt.subplot(3,2,1)\n",
        "plt.title(\"Immunities\")\n",
        "plt.xlabel(\"Occurences\")\n",
        "plt.barh(y=pivot_coverage.type, width=pivot_coverage[0.0], color=colour_list)\n",
        "ax.set_xticks([0,2,4,6,8,10,12,14,16,18,20])\n",
        "\n",
        "ax = plt.subplot(3,2,2)\n",
        "plt.title(\"Quad Resists\")\n",
        "plt.xlabel(\"Occurences\")\n",
        "plt.barh(y=pivot_coverage.type, width=pivot_coverage[0.25], color=colour_list)\n",
        "ax.set_xticks([0,2,4,6,8,10,12,14,16,18,20,22,24])\n",
        "\n",
        "ax = plt.subplot(3,2,3)\n",
        "plt.title(\"Resists\")\n",
        "plt.xlabel(\"Occurences\")\n",
        "plt.barh(y=pivot_coverage.type, width=pivot_coverage[0.5], color=colour_list)\n",
        "ax.set_xticks([5,10,15,20,25,30,35,40,45,50])\n",
        "\n",
        "ax = plt.subplot(3,2,4)\n",
        "plt.title(\"Normal Damage\")\n",
        "plt.xlabel(\"Occurences\")\n",
        "plt.barh(y=pivot_coverage.type, width=pivot_coverage[1.0], color=colour_list)\n",
        "ax.set_xticks([20,40,60,80,100,120,140,160])\n",
        "\n",
        "ax = plt.subplot(3,2,5)\n",
        "plt.title(\"Super Effective\")\n",
        "plt.xlabel(\"Occurences\")\n",
        "plt.barh(y=pivot_coverage.type, width=pivot_coverage[2.0], color=colour_list)\n",
        "ax.set_xticks([15,10,15,20,25,30,35,40,45,50])\n",
        "\n",
        "ax = plt.subplot(3,2,6)\n",
        "plt.title(\"4x Damage\")\n",
        "plt.xlabel(\"Occurences\")\n",
        "plt.barh(y=pivot_coverage.type, width=pivot_coverage[4.0], color=colour_list)\n",
        "ax.set_xticks([1,2,3,4,5,6,7,8,9,10,11,12])\n",
        "\n",
        "plt.tight_layout()\n",
        "plt.show()"
      ],
      "metadata": {
        "colab": {
          "base_uri": "https://localhost:8080/"
        },
        "id": "SchohZGGu09w",
        "outputId": "00818b7e-0d17-427a-d4ba-cc80b5869aea"
      },
      "execution_count": null,
      "outputs": [
        {
          "output_type": "display_data",
          "data": {
            "text/plain": [
              "<Figure size 1000x1000 with 6 Axes>"
            ],
            "image/png": "[encoded data removed]"
          },
          "metadata": {}
        }
      ]
    },
    {
      "cell_type": "markdown",
      "source": [
        "#8- Specific pokemon damage coverage\n",
        "Finding the damage to all pokemon in the pokedex upon taking a hit from:\n",
        "-Gyarados's hyper beam   \n",
        "-Mewtwo's psychic   \n",
        "-Pikachu's thunder   \n",
        "-Golem's explosion   \n",
        "-Charizard's fire blast   \n",
        "-Blastoise's hydro pump   \n",
        "-Venusaur's solar beam   "
      ],
      "metadata": {
        "id": "w5KrcE5hd2CM"
      }
    },
    {
      "cell_type": "code",
      "source": [
        "# Read CSV from github back as a variable\n",
        "poke_coverage_df = pd.read_csv(\"https://raw.githubusercontent.com/thecyberdragon/data-analysis/main/pokemon_gen_1/pokemon_gen_1_type_coverage.csv\")\n",
        "poke_df = pd.read_csv(\"https://raw.githubusercontent.com/thecyberdragon/data-analysis/main/pokemon_gen_1/pokemon_gen_1_stats_types.csv\")\n",
        "move_df = pd.read_csv(\"https://raw.githubusercontent.com/thecyberdragon/data-analysis/main/pokemon_gen_1/gen_1_powerful_moves.csv\")\n",
        "poke_df_lvl100 = pd.read_csv(\"https://raw.githubusercontent.com/thecyberdragon/data-analysis/main/pokemon_gen_1/pokemon_gen_1_level_100_stats_types.csv\")"
      ],
      "metadata": {
        "id": "C8mQg7ide8Yv"
      },
      "execution_count": null,
      "outputs": []
    },
    {
      "cell_type": "code",
      "source": [
        "# Calculate all damages in the pokedex per move\n",
        "poke_df_damage = poke_df_lvl100.copy()\n",
        "\n",
        "# Tests:\n",
        "# Gyrados Hyper Beam\n",
        "# Mewtwo Psychic\n",
        "# Pikachu Thunder\n",
        "# Golem Explosion\n",
        "# Charizard Fire Blast\n",
        "# Blastoise Hydro Pump\n",
        "# Venasaur Solar Beam\n",
        "\n",
        "for index, row in poke_df_damage.iterrows():\n",
        "  pokemon = row[\"name\"]\n",
        "  poke_df_damage.at[index, \"gyarados_hyperbeam\"] = CalculateDamage(\"Gyarados\",pokemon, \"Hyper Beam\")\n",
        "  poke_df_damage.at[index, \"mewtwo_psychic\"] = CalculateDamage(\"Mewtwo\",pokemon, \"Psychic\")\n",
        "  poke_df_damage.at[index, \"pikachu_thunder\"] = CalculateDamage(\"Pikachu\",pokemon, \"Thunder\")\n",
        "  poke_df_damage.at[index, \"golem_explosion\"] = CalculateDamage(\"Golem\",pokemon, \"Explosion\")\n",
        "  poke_df_damage.at[index, \"charizard_fireblast\"] = CalculateDamage(\"Charizard\",pokemon, \"Fire Blast\")\n",
        "  poke_df_damage.at[index, \"blastoise_hydropump\"] = CalculateDamage(\"Blastoise\",pokemon, \"Hydro Pump\")\n",
        "  poke_df_damage.at[index, \"venusaur_solarbeam\"] = CalculateDamage(\"Venusaur\",pokemon, \"Solar Beam\")\n",
        "\n",
        "poke_df_damage.drop(\"speed_100\", axis=1, inplace=True)\n",
        "poke_df_damage.drop(\"spdef_100\", axis=1, inplace=True)\n",
        "poke_df_damage.drop(\"spatk_100\", axis=1, inplace=True)\n",
        "poke_df_damage.drop(\"def_100\", axis=1, inplace=True)\n",
        "poke_df_damage.drop(\"atk_100\", axis=1, inplace=True)\n",
        "\n",
        "print(poke_df_damage.head(5))\n",
        "poke_df_damage.to_csv(\"pokemon_gen_1_damage.csv\")"
      ],
      "metadata": {
        "id": "P8EiTcWF2WR-",
        "colab": {
          "base_uri": "https://localhost:8080/"
        },
        "outputId": "ecac81ff-94a3-4b3b-d1b8-271313b0480f"
      },
      "execution_count": null,
      "outputs": [
        {
          "output_type": "stream",
          "name": "stdout",
          "text": [
            "   Unnamed: 0.1  Unnamed: 0  dex        name type_1  type_2  hp_100  \\\n",
            "0             0           0    1   Bulbasaur  Grass  Poison     293   \n",
            "1             1           1    2     Ivysaur  Grass  Poison     323   \n",
            "2             2           2    3    Venusaur  Grass  Poison     363   \n",
            "3             3           3    4  Charmander   Fire     NaN     281   \n",
            "4             4           4    5  Charmeleon   Fire     NaN     319   \n",
            "\n",
            "   gyarados_hyperbeam  mewtwo_psychic  pikachu_thunder  golem_explosion  \\\n",
            "0               271.0           316.0             42.0            549.0   \n",
            "1               225.0           268.0             35.5            455.0   \n",
            "2               180.0           224.0             29.5            363.0   \n",
            "3               298.0           194.0            102.0            603.0   \n",
            "4               239.0           158.0             84.0            484.0   \n",
            "\n",
            "   charizard_fireblast  blastoise_hydropump  venusaur_solarbeam  \n",
            "0                252.0                 63.0               36.25  \n",
            "1                214.0                 53.5               30.75  \n",
            "2                180.0                 45.0               25.50  \n",
            "3                 77.5                310.0               88.50  \n",
            "4                 63.0                252.0               72.50  \n"
          ]
        }
      ]
    },
    {
      "cell_type": "code",
      "source": [
        "# Describe the statistics of each move per pokemon\n",
        "print(poke_df_damage[[\"gyarados_hyperbeam\",\"mewtwo_psychic\", \"pikachu_thunder\", \"golem_explosion\",\"charizard_fireblast\",\"blastoise_hydropump\",\"venusaur_solarbeam\"]].describe())"
      ],
      "metadata": {
        "colab": {
          "base_uri": "https://localhost:8080/"
        },
        "id": "aoKy-gdoUImp",
        "outputId": "927af1db-6195-4187-c1ac-1a95314f39c3"
      },
      "execution_count": null,
      "outputs": [
        {
          "output_type": "stream",
          "name": "stdout",
          "text": [
            "       gyarados_hyperbeam  mewtwo_psychic  pikachu_thunder  golem_explosion  \\\n",
            "count          151.000000      151.000000       151.000000       151.000000   \n",
            "mean           222.443709      210.311258       101.791391       450.046358   \n",
            "std             97.977422      118.289655        71.622235       198.735749   \n",
            "min              0.000000       38.500000         0.000000         0.000000   \n",
            "25%            176.000000      128.000000        47.750000       356.000000   \n",
            "50%            218.000000      192.000000        89.000000       441.000000   \n",
            "75%            267.000000      271.000000       142.000000       541.000000   \n",
            "max            805.000000      692.000000       364.000000      1633.000000   \n",
            "\n",
            "       charizard_fireblast  blastoise_hydropump  venusaur_solarbeam  \n",
            "count           151.000000           151.000000          151.000000  \n",
            "mean            138.281457           157.062914          185.801325  \n",
            "std             100.865593           146.410955          193.042254  \n",
            "min              20.000000            37.000000           21.250000  \n",
            "25%              77.000000            74.000000           71.750000  \n",
            "50%             113.000000           122.000000          112.000000  \n",
            "75%             180.500000           181.000000          230.500000  \n",
            "max             576.000000           876.000000         1000.000000  \n"
          ]
        }
      ]
    },
    {
      "cell_type": "markdown",
      "source": [
        "### Gyarados Hyper Beam\n",
        "Top 10 pokemon who:    \n",
        "-Get overkilled   \n",
        "-Resist   \n",
        "-Barely live one hit   "
      ],
      "metadata": {
        "id": "anf4jaGheIKy"
      }
    },
    {
      "cell_type": "code",
      "source": [
        "# Gyarados hyper beam analysis\n",
        "print(\"Gyarados' hyper beam stats\\n===============================\")\n",
        "gyarados = poke_df_damage[[\"name\",\"hp_100\",\"gyarados_hyperbeam\"]]\n",
        "gyarados.gyarados_hyperbeam = gyarados.gyarados_hyperbeam.astype(\"float\")\n",
        "gyarados = gyarados.sort_values(by=\"gyarados_hyperbeam\", ascending=True)\n",
        "\n",
        "print(\"\\nTop 10 hardest hit pokemon\")\n",
        "gyarados_ohko = gyarados[gyarados.hp_100 < gyarados.gyarados_hyperbeam].reset_index()\n",
        "gyarados_ohko[\"percent\"] = gyarados_ohko.gyarados_hyperbeam / gyarados_ohko.hp_100 * 100\n",
        "gyarados_ohko = gyarados_ohko.sort_values(by=\"percent\", ascending=False)\n",
        "print(gyarados_ohko.head(10))\n",
        "\n",
        "print(\"\\nTop 10 most resisted pokemon\")\n",
        "gyarados_lived = gyarados[gyarados.hp_100 > gyarados.gyarados_hyperbeam].reset_index()\n",
        "gyarados_lived[\"percent\"] = gyarados_lived.gyarados_hyperbeam / gyarados_lived.hp_100 * 100\n",
        "gyarados_lived = gyarados_lived.sort_values(by=\"percent\",ascending=True)\n",
        "print(gyarados_lived.head(10))\n",
        "\n",
        "print(\"\\nPokemon who just make it (barely)\")\n",
        "gyarados_lived = gyarados_lived.sort_values(by=\"percent\",ascending=False)\n",
        "print(gyarados_lived.head(10))\n",
        "\n",
        "gyarados_lived.to_csv(\"gyarados_hyperbeam_damage.csv\")"
      ],
      "metadata": {
        "colab": {
          "base_uri": "https://localhost:8080/"
        },
        "id": "RTQvbA-dVJYw",
        "outputId": "f3078e99-5290-4bf2-c87f-92cf267c69fa"
      },
      "execution_count": null,
      "outputs": [
        {
          "output_type": "stream",
          "name": "stdout",
          "text": [
            "Gyarados' hyper beam stats\n",
            "===============================\n",
            "\n",
            "Top 10 hardest hit pokemon\n",
            "    index       name  hp_100  gyarados_hyperbeam     percent\n",
            "23     62       Abra     253               558.0  220.553360\n",
            "21     49    Diglett     223               422.0  189.237668\n",
            "18     24    Pikachu     273               378.0  138.461538\n",
            "20     63    Kadabra     283               378.0  133.568905\n",
            "19     12     Weedle     283               378.0  133.568905\n",
            "17     20    Spearow     283               378.0  133.568905\n",
            "15     18    Rattata     263               343.0  130.418251\n",
            "13     71  Tentacool     283               343.0  121.201413\n",
            "16     55     Mankey     283               343.0  121.201413\n",
            "9      51     Meowth     283               343.0  121.201413\n",
            "\n",
            "Top 10 most resisted pokemon\n",
            "    index      name  hp_100  gyarados_hyperbeam    percent\n",
            "0      91    Gastly     263                 0.0   0.000000\n",
            "1      92   Haunter     293                 0.0   0.000000\n",
            "2      93    Gengar     323                 0.0   0.000000\n",
            "6     111    Rhydon     413                66.0  15.980630\n",
            "4      75     Golem     363                61.5  16.942149\n",
            "5     138   Omastar     343                64.0  18.658892\n",
            "3      94      Onix     273                51.5  18.864469\n",
            "7      74  Graveler     313                68.5  21.884984\n",
            "11    110   Rhyhorn     363                80.5  22.176309\n",
            "8     140  Kabutops     323                74.0  22.910217\n",
            "\n",
            "Pokemon who just make it (barely)\n",
            "     index       name  hp_100  gyarados_hyperbeam    percent\n",
            "110     50    Dugtrio     273               267.0  97.802198\n",
            "98     119     Staryu     263               249.0  94.676806\n",
            "111     99    Voltorb     283               267.0  94.346290\n",
            "125     14   Beedrill     333               313.0  93.993994\n",
            "117      0  Bulbasaur     293               271.0  92.491468\n",
            "124     57  Growlithe     313               289.0  92.332268\n",
            "122     64   Alakazam     313               289.0  92.332268\n",
            "118    131      Ditto     299               275.0  91.973244\n",
            "102     45      Paras     273               249.0  91.208791\n",
            "112     13     Kakuna     293               267.0  91.126280\n"
          ]
        },
        {
          "output_type": "stream",
          "name": "stderr",
          "text": [
            "<ipython-input-17-3032f0151f31>:4: SettingWithCopyWarning: \n",
            "A value is trying to be set on a copy of a slice from a DataFrame.\n",
            "Try using .loc[row_indexer,col_indexer] = value instead\n",
            "\n",
            "See the caveats in the documentation: https://pandas.pydata.org/pandas-docs/stable/user_guide/indexing.html#returning-a-view-versus-a-copy\n",
            "  gyarados.gyarados_hyperbeam = gyarados.gyarados_hyperbeam.astype(\"float\")\n"
          ]
        }
      ]
    },
    {
      "cell_type": "markdown",
      "source": [
        "### Mewtwo Psychic\n",
        "Top 10 pokemon who:    \n",
        "-Get overkilled   \n",
        "-Resist   \n",
        "-Barely live one hit  "
      ],
      "metadata": {
        "id": "9baBQ6ElEwym"
      }
    },
    {
      "cell_type": "code",
      "source": [
        "# Mewtwo psychic analysis\n",
        "print(\"Mewtwo psychic stats\\n===============================\")\n",
        "mewtwo = poke_df_damage[[\"name\",\"hp_100\",\"mewtwo_psychic\"]]\n",
        "mewtwo.mewtwo_psychic = mewtwo.mewtwo_psychic.astype(\"float\")\n",
        "mewtwo = mewtwo.sort_values(by=\"mewtwo_psychic\", ascending=True)\n",
        "\n",
        "print(\"\\nTop 10 hardest hit pokemon\")\n",
        "mewtwo_ohko = mewtwo[mewtwo.hp_100 < mewtwo.mewtwo_psychic].reset_index()\n",
        "mewtwo_ohko[\"percent\"] = mewtwo_ohko.mewtwo_psychic / mewtwo_ohko.hp_100 * 100\n",
        "mewtwo_ohko = mewtwo_ohko.sort_values(by=\"percent\", ascending=False)\n",
        "print(mewtwo_ohko.head(10))\n",
        "\n",
        "print(\"\\nTop 10 most resisted pokemon\")\n",
        "mewtwo_lived = mewtwo[mewtwo.hp_100 > mewtwo.mewtwo_psychic].reset_index()\n",
        "mewtwo_lived[\"percent\"] = mewtwo_lived.mewtwo_psychic / mewtwo_lived.hp_100 * 100\n",
        "mewtwo_lived = mewtwo_lived.sort_values(by=\"percent\",ascending=True)\n",
        "print(mewtwo_lived.head(10))\n",
        "\n",
        "print(\"\\nPokemon who just make it (barely)\")\n",
        "mewtwo_lived = mewtwo_lived.sort_values(by=\"percent\",ascending=False)\n",
        "print(mewtwo_lived.head(10))\n",
        "\n",
        "mewtwo.to_csv(\"mewtwo_psychic_damage.csv\")\n"
      ],
      "metadata": {
        "colab": {
          "base_uri": "https://localhost:8080/"
        },
        "id": "8vFH2ZCQE5Pj",
        "outputId": "b3a2b351-b530-4c50-b8d1-6447cd2f2765"
      },
      "execution_count": null,
      "outputs": [
        {
          "output_type": "stream",
          "name": "stdout",
          "text": [
            "Mewtwo psychic stats\n",
            "===============================\n",
            "\n",
            "Top 10 hardest hit pokemon\n",
            "    index        name  hp_100  mewtwo_psychic     percent\n",
            "24     12      Weedle     283           692.0  244.522968\n",
            "23     13      Kakuna     293           612.0  208.873720\n",
            "20     55      Mankey     283           496.0  175.265018\n",
            "15     22       Ekans     273           454.0  166.300366\n",
            "22    105   Hitmonlee     303           496.0  163.696370\n",
            "21    106  Hitmonchan     303           496.0  163.696370\n",
            "13     40       Zubat     283           454.0  160.424028\n",
            "14     31    Nidoran♂     295           454.0  153.898305\n",
            "18     28    Nidoran♀     313           454.0  145.047923\n",
            "19     65      Machop     343           496.0  144.606414\n",
            "\n",
            "Top 10 most resisted pokemon\n",
            "    index       name  hp_100  mewtwo_psychic    percent\n",
            "0     149     Mewtwo     415            38.5   9.277108\n",
            "2     102  Exeggutor     393            46.5  11.832061\n",
            "4      96      Hypno     373            49.5  13.270777\n",
            "8     150        Mew     403            56.0  13.895782\n",
            "1      64   Alakazam     313            43.5  13.897764\n",
            "21    112    Chansey     703           107.0  15.220484\n",
            "3      63    Kadabra     283            48.0  16.961131\n",
            "11     79    Slowbro     393            67.0  17.048346\n",
            "6     120    Starmie     323            56.0  17.337461\n",
            "9     123       Jynx     333            58.5  17.567568\n",
            "\n",
            "Pokemon who just make it (barely)\n",
            "     index        name  hp_100  mewtwo_psychic    percent\n",
            "120     68  Bellsprout     303           298.0  98.349835\n",
            "125     23       Arbok     323           316.0  97.832817\n",
            "114     73     Geodude     283           274.0  96.819788\n",
            "119     42      Oddish     293           282.0  96.245734\n",
            "112     20     Spearow     283           268.0  94.699647\n",
            "91      49     Diglett     223           209.0  93.721973\n",
            "107     83       Doduo     273           248.0  90.842491\n",
            "113     26   Sandshrew     303           274.0  90.429043\n",
            "106     15      Pidgey     283           248.0  87.632509\n",
            "99      91      Gastly     263           224.0  85.171103\n"
          ]
        },
        {
          "output_type": "stream",
          "name": "stderr",
          "text": [
            "<ipython-input-18-54d563548fc5>:4: SettingWithCopyWarning: \n",
            "A value is trying to be set on a copy of a slice from a DataFrame.\n",
            "Try using .loc[row_indexer,col_indexer] = value instead\n",
            "\n",
            "See the caveats in the documentation: https://pandas.pydata.org/pandas-docs/stable/user_guide/indexing.html#returning-a-view-versus-a-copy\n",
            "  mewtwo.mewtwo_psychic = mewtwo.mewtwo_psychic.astype(\"float\")\n"
          ]
        }
      ]
    },
    {
      "cell_type": "markdown",
      "source": [
        "### Pikachu Thunder\n",
        "Top 10 pokemon who:    \n",
        "-Get overkilled   \n",
        "-Resist   \n",
        "-Barely live one hit  "
      ],
      "metadata": {
        "id": "GR1KcjlUGQJh"
      }
    },
    {
      "cell_type": "code",
      "source": [
        "# Pikachu thunder analysis\n",
        "print(\"Pikachu thunder stats\\n===============================\")\n",
        "pikachu = poke_df_damage[[\"name\",\"hp_100\",\"pikachu_thunder\"]]\n",
        "pikachu.pikachu_thunder = pikachu.pikachu_thunder.astype(\"float\")\n",
        "pikachu = pikachu.sort_values(by=\"pikachu_thunder\", ascending=True)\n",
        "\n",
        "print(\"\\nTop 10 hardest hit pokemon\")\n",
        "pikachu_ohko = pikachu[pikachu.hp_100 < pikachu.pikachu_thunder].reset_index()\n",
        "pikachu_ohko[\"percent\"] = pikachu_ohko.pikachu_thunder / pikachu_ohko.hp_100 * 100\n",
        "pikachu_ohko = pikachu_ohko.sort_values(by=\"percent\", ascending=False)\n",
        "print(pikachu_ohko.head(10))\n",
        "\n",
        "print(\"\\nTop 10 most resisted pokemon\")\n",
        "pikachu_lived = pikachu[pikachu.hp_100 > pikachu.pikachu_thunder].reset_index()\n",
        "pikachu_lived[\"percent\"] = pikachu_lived.pikachu_thunder / pikachu_lived.hp_100 * 100\n",
        "pikachu_lived = pikachu_lived.sort_values(by=\"percent\",ascending=True)\n",
        "print(pikachu_lived.head(10))\n",
        "\n",
        "print(\"\\nTop 10 most resisted pokemon where damage is greater than 0\")\n",
        "pikachu_lived = pikachu[(pikachu.hp_100 > pikachu.pikachu_thunder) & (pikachu.pikachu_thunder > 0)].reset_index()\n",
        "pikachu_lived[\"percent\"] = pikachu_lived.pikachu_thunder / pikachu_lived.hp_100 * 100\n",
        "pikachu_lived = pikachu_lived.sort_values(by=\"percent\",ascending=True)\n",
        "print(pikachu_lived.head(10))\n",
        "\n",
        "print(\"\\nPokemon who just make it (barely)\")\n",
        "pikachu_lived = pikachu_lived.sort_values(by=\"percent\",ascending=False)\n",
        "print(pikachu_lived.head(10))\n",
        "\n",
        "pikachu.to_csv(\"pikachu_thunder_damage.csv\")\n"
      ],
      "metadata": {
        "colab": {
          "base_uri": "https://localhost:8080/"
        },
        "id": "0qVUAL2cGaYk",
        "outputId": "9368a15e-fdaa-40dc-c1a1-b80d5e068463"
      },
      "execution_count": null,
      "outputs": [
        {
          "output_type": "stream",
          "name": "stdout",
          "text": [
            "Pikachu thunder stats\n",
            "===============================\n",
            "\n",
            "Top 10 hardest hit pokemon\n",
            "   index      name  hp_100  pikachu_thunder     percent\n",
            "1    128  Magikarp     243            364.0  149.794239\n",
            "0     97    Krabby     263            322.0  122.433460\n",
            "\n",
            "Top 10 most resisted pokemon\n",
            "    index      name  hp_100  pikachu_thunder  percent\n",
            "0      75     Golem     363              0.0      0.0\n",
            "13    104   Marowak     323              0.0      0.0\n",
            "12    111    Rhydon     413              0.0      0.0\n",
            "11    110   Rhyhorn     363              0.0      0.0\n",
            "10     33  Nidoking     365              0.0      0.0\n",
            "9     103    Cubone     303              0.0      0.0\n",
            "7      74  Graveler     313              0.0      0.0\n",
            "8      94      Onix     273              0.0      0.0\n",
            "5      50   Dugtrio     273              0.0      0.0\n",
            "4      49   Diglett     223              0.0      0.0\n",
            "\n",
            "Top 10 most resisted pokemon where damage is greater than 0\n",
            "    index        name  hp_100  pikachu_thunder    percent\n",
            "0     102   Exeggutor     393             24.5   6.234097\n",
            "32    112     Chansey     703             57.0   8.108108\n",
            "3       2    Venusaur     363             29.5   8.126722\n",
            "5      70  Victreebel     363             29.5   8.126722\n",
            "2     134     Jolteon     333             27.5   8.258258\n",
            "6      44   Vileplume     353             29.5   8.356941\n",
            "1      81    Magneton     303             25.5   8.415842\n",
            "4     113     Tangela     333             29.5   8.858859\n",
            "18    149      Mewtwo     415             41.0   9.879518\n",
            "8      25      Raichu     323             32.5  10.061920\n",
            "\n",
            "Pokemon who just make it (barely)\n",
            "     index      name  hp_100  pikachu_thunder    percent\n",
            "134     20   Spearow     283            282.0  99.646643\n",
            "132     83     Doduo     273            262.0  95.970696\n",
            "133     15    Pidgey     283            262.0  92.579505\n",
            "131     40     Zubat     283            240.0  84.805654\n",
            "130     59   Poliwag     283            240.0  84.805654\n",
            "126    139    Kabuto     263            220.0  83.650190\n",
            "127     89  Shellder     263            220.0  83.650190\n",
            "124      6  Squirtle     291            204.0  70.103093\n",
            "123    117   Goldeen     293            204.0  69.624573\n",
            "120     53   Psyduck     303            204.0  67.326733\n"
          ]
        },
        {
          "output_type": "stream",
          "name": "stderr",
          "text": [
            "<ipython-input-27-7010ba8fbcb8>:4: SettingWithCopyWarning: \n",
            "A value is trying to be set on a copy of a slice from a DataFrame.\n",
            "Try using .loc[row_indexer,col_indexer] = value instead\n",
            "\n",
            "See the caveats in the documentation: https://pandas.pydata.org/pandas-docs/stable/user_guide/indexing.html#returning-a-view-versus-a-copy\n",
            "  pikachu.pikachu_thunder = pikachu.pikachu_thunder.astype(\"float\")\n"
          ]
        }
      ]
    },
    {
      "cell_type": "markdown",
      "source": [
        "### Golem Explosion\n",
        "Top 10 pokemon who:    \n",
        "-Get overkilled   \n",
        "-Resist   \n",
        "-Barely live one hit  "
      ],
      "metadata": {
        "id": "gHolhOdAHW1g"
      }
    },
    {
      "cell_type": "code",
      "source": [
        "# Golem explosion analysis\n",
        "print(\"Golem explosion stats\\n===============================\")\n",
        "golem = poke_df_damage[[\"name\",\"hp_100\",\"golem_explosion\"]]\n",
        "golem.golem_explosion = golem.golem_explosion.astype(\"float\")\n",
        "golem = golem.sort_values(by=\"golem_explosion\", ascending=True)\n",
        "\n",
        "print(\"\\nTop 10 hardest hit pokemon\")\n",
        "golem_ohko = golem[golem.hp_100 < golem.golem_explosion].reset_index()\n",
        "golem_ohko[\"percent\"] = golem_ohko.golem_explosion / golem_ohko.hp_100 * 100\n",
        "golem_ohko = golem_ohko.sort_values(by=\"percent\", ascending=False)\n",
        "print(golem_ohko.head(10))\n",
        "\n",
        "print(\"\\nTop 10 most resisted pokemon\")\n",
        "golem_lived = golem[golem.hp_100 > golem.golem_explosion].reset_index()\n",
        "golem_lived[\"percent\"] = golem_lived.golem_explosion / golem_lived.hp_100 * 100\n",
        "golem_lived = golem_lived.sort_values(by=\"percent\",ascending=True)\n",
        "print(golem_lived.head(10))\n",
        "\n",
        "print(\"\\nPokemon who just make it (barely)\")\n",
        "golem_lived = golem_lived.sort_values(by=\"percent\",ascending=False)\n",
        "print(golem_lived.head(10))\n",
        "\n",
        "golem.to_csv(\"golem_explosion_damage.csv\")\n"
      ],
      "metadata": {
        "id": "dPfhcBRBGZrN",
        "colab": {
          "base_uri": "https://localhost:8080/"
        },
        "outputId": "6f79b7d3-ad7c-40d0-a4ca-47ad93d66b96"
      },
      "execution_count": null,
      "outputs": [
        {
          "output_type": "stream",
          "name": "stdout",
          "text": [
            "Golem explosion stats\n",
            "===============================\n",
            "\n",
            "Top 10 hardest hit pokemon\n",
            "     index       name  hp_100  golem_explosion     percent\n",
            "107     62       Abra     253           1131.0  447.035573\n",
            "105     49    Diglett     223            855.0  383.408072\n",
            "102     24    Pikachu     273            766.0  280.586081\n",
            "104     63    Kadabra     283            766.0  270.671378\n",
            "103     12     Weedle     283            766.0  270.671378\n",
            "101     20    Spearow     283            766.0  270.671378\n",
            "99      18    Rattata     263            694.0  263.878327\n",
            "97      71  Tentacool     283            694.0  245.229682\n",
            "93      51     Meowth     283            694.0  245.229682\n",
            "100     55     Mankey     283            694.0  245.229682\n",
            "\n",
            "Top 10 most resisted pokemon\n",
            "    index      name  hp_100  golem_explosion    percent\n",
            "0      91    Gastly     263              0.0   0.000000\n",
            "1      92   Haunter     293              0.0   0.000000\n",
            "2      93    Gengar     323              0.0   0.000000\n",
            "6     111    Rhydon     413            133.0  32.203390\n",
            "4      75     Golem     363            124.5  34.297521\n",
            "5     138   Omastar     343            128.5  37.463557\n",
            "3      94      Onix     273            103.5  37.912088\n",
            "7      74  Graveler     313            138.0  44.089457\n",
            "11    110   Rhyhorn     363            162.5  44.765840\n",
            "8     140  Kabutops     323            149.5  46.284830\n",
            "\n",
            "Pokemon who just make it (barely)\n",
            "    index       name  hp_100  golem_explosion    percent\n",
            "37     86    Dewgong     383            374.0  97.650131\n",
            "35     67    Machamp     383            374.0  97.650131\n",
            "34     58   Arcanine     383            374.0  97.650131\n",
            "38    129   Gyarados     393            378.0  96.183206\n",
            "39     88        Muk     413            394.0  95.399516\n",
            "21    126     Pinsir     333            311.0  93.393393\n",
            "31    144     Zapdos     383            356.0  92.950392\n",
            "26    127     Tauros     353            325.0  92.067989\n",
            "30     30  Nidoqueen     383            349.0  91.122715\n",
            "32    102  Exeggutor     393            356.0  90.585242\n"
          ]
        },
        {
          "output_type": "stream",
          "name": "stderr",
          "text": [
            "<ipython-input-28-0bdfcf3c59f1>:4: SettingWithCopyWarning: \n",
            "A value is trying to be set on a copy of a slice from a DataFrame.\n",
            "Try using .loc[row_indexer,col_indexer] = value instead\n",
            "\n",
            "See the caveats in the documentation: https://pandas.pydata.org/pandas-docs/stable/user_guide/indexing.html#returning-a-view-versus-a-copy\n",
            "  golem.golem_explosion = golem.golem_explosion.astype(\"float\")\n"
          ]
        }
      ]
    },
    {
      "cell_type": "markdown",
      "source": [
        "### Venusaur Solar Beam\n",
        "Top 10 pokemon who:   \n",
        "-Get overkilled   \n",
        "-Resist    \n",
        "-Barely live one hit    "
      ],
      "metadata": {
        "id": "qBexpbDgtf7A"
      }
    },
    {
      "cell_type": "code",
      "source": [
        "# Venusaur solar beam analysis\n",
        "print(\"Venusaur solar beam stats\\n===============================\")\n",
        "venusaur = poke_df_damage[[\"name\",\"hp_100\",\"venusaur_solarbeam\"]]\n",
        "venusaur.venusaur = venusaur.venusaur_solarbeam.astype(\"float\")\n",
        "venusaur = venusaur.sort_values(by=\"venusaur_solarbeam\", ascending=True)\n",
        "\n",
        "print(\"\\nTop 10 hardest hit pokemon\")\n",
        "venusaur_ohko = venusaur[venusaur.hp_100 < venusaur.venusaur_solarbeam].reset_index()\n",
        "venusaur_ohko[\"percent\"] = venusaur_ohko.venusaur_solarbeam / venusaur_ohko.hp_100 * 100\n",
        "venusaur_ohko = venusaur_ohko.sort_values(by=\"percent\", ascending=False)\n",
        "print(venusaur_ohko.head(10))\n",
        "\n",
        "print(\"\\nTop 10 most resisted pokemon\")\n",
        "venusaur_lived = venusaur[venusaur.hp_100 > venusaur.venusaur_solarbeam].reset_index()\n",
        "venusaur_lived[\"percent\"] = venusaur_lived.venusaur_solarbeam / venusaur_lived.hp_100 * 100\n",
        "venusaur_lived = venusaur_lived.sort_values(by=\"percent\",ascending=True)\n",
        "print(venusaur_lived.head(10))\n",
        "\n",
        "print(\"\\nPokemon who just make it (barely)\")\n",
        "venusaur_lived = venusaur_lived.sort_values(by=\"percent\",ascending=False)\n",
        "print(venusaur_lived.head(10))\n",
        "\n",
        "venusaur.to_csv(\"charizard_solarbeam_damage.csv\")"
      ],
      "metadata": {
        "colab": {
          "base_uri": "https://localhost:8080/"
        },
        "id": "-W5D-zCWtlmQ",
        "outputId": "1fe757ef-316f-4723-b5de-b1eeff04cf77"
      },
      "execution_count": null,
      "outputs": [
        {
          "output_type": "stream",
          "name": "stdout",
          "text": [
            "Venusaur solar beam stats\n",
            "===============================\n",
            "\n",
            "Top 10 hardest hit pokemon\n",
            "    index      name  hp_100  venusaur_solarbeam     percent\n",
            "25     94      Onix     273              1000.0  366.300366\n",
            "26     73   Geodude     283              1000.0  353.356890\n",
            "21    139    Kabuto     263               764.0  290.494297\n",
            "24    110   Rhyhorn     363              1000.0  275.482094\n",
            "19    128  Magikarp     243               632.0  260.082305\n",
            "22     74  Graveler     313               764.0  244.089457\n",
            "18     97    Krabby     263               558.0  212.167300\n",
            "23    111    Rhydon     413               764.0  184.987893\n",
            "20     75     Golem     363               660.0  181.818182\n",
            "11     49   Diglett     223               382.0  171.300448\n",
            "\n",
            "Top 10 most resisted pokemon\n",
            "    index        name  hp_100  venusaur_solarbeam   percent\n",
            "0     145     Moltres     383               21.25  5.548303\n",
            "3     148   Dragonite     385               25.50  6.623377\n",
            "1       2    Venusaur     363               25.50  7.024793\n",
            "2      70  Victreebel     363               25.50  7.024793\n",
            "4      44   Vileplume     353               25.50  7.223796\n",
            "6       5   Charizard     359               29.25  8.147632\n",
            "5      48    Venomoth     343               28.00  8.163265\n",
            "8      69  Weepinbell     333               29.25  8.783784\n",
            "7      43       Gloom     323               29.25  9.055728\n",
            "13     41      Golbat     353               32.25  9.135977\n",
            "\n",
            "Pokemon who just make it (barely)\n",
            "     index        name  hp_100  venusaur_solarbeam    percent\n",
            "119     50     Dugtrio     273               272.0  99.633700\n",
            "123     27   Sandslash     353               330.0  93.484419\n",
            "122      7   Wartortle     321               290.0  90.342679\n",
            "120     85        Seel     333               272.0  81.681682\n",
            "109     55      Mankey     283               227.0  80.212014\n",
            "114     90    Cloyster     303               234.0  77.227723\n",
            "112    106  Hitmonchan     303               227.0  74.917492\n",
            "111    105   Hitmonlee     303               227.0  74.917492\n",
            "105     51      Meowth     283               207.0  73.144876\n",
            "118     61   Poliwrath     383               272.0  71.018277\n"
          ]
        },
        {
          "output_type": "stream",
          "name": "stderr",
          "text": [
            "<ipython-input-29-cd3a3471c7fe>:4: UserWarning: Pandas doesn't allow columns to be created via a new attribute name - see https://pandas.pydata.org/pandas-docs/stable/indexing.html#attribute-access\n",
            "  venusaur.venusaur = venusaur.venusaur_solarbeam.astype(\"float\")\n"
          ]
        }
      ]
    },
    {
      "cell_type": "markdown",
      "source": [
        "### Charizard Fire Blast\n",
        "Top 10 pokemon who:   \n",
        "-Get overkilled   \n",
        "-Resist    \n",
        "-Barely live one hit  "
      ],
      "metadata": {
        "id": "V73-YYHUtn4r"
      }
    },
    {
      "cell_type": "code",
      "source": [
        "# Charizard fire blast analysis\n",
        "print(\"Charizard fire blast stats\\n===============================\")\n",
        "charizard = poke_df_damage[[\"name\",\"hp_100\",\"charizard_fireblast\"]]\n",
        "charizard.charizard = charizard.charizard_fireblast.astype(\"float\")\n",
        "charizard = charizard.sort_values(by=\"charizard_fireblast\", ascending=True)\n",
        "\n",
        "print(\"\\nTop 10 hardest hit pokemon\")\n",
        "charizard_ohko = charizard[charizard.hp_100 < charizard.charizard_fireblast].reset_index()\n",
        "charizard_ohko[\"percent\"] = charizard_ohko.charizard_fireblast / charizard_ohko.hp_100 * 100\n",
        "charizard_ohko = charizard_ohko.sort_values(by=\"percent\", ascending=False)\n",
        "print(charizard_ohko.head(10))\n",
        "\n",
        "print(\"\\nTop 10 most resisted pokemon\")\n",
        "charizard_lived = charizard[charizard.hp_100 > charizard.charizard_fireblast].reset_index()\n",
        "charizard_lived[\"percent\"] = charizard_lived.charizard_fireblast / charizard_lived.hp_100 * 100\n",
        "charizard_lived = charizard_lived.sort_values(by=\"percent\",ascending=True)\n",
        "print(charizard_lived.head(10))\n",
        "\n",
        "print(\"\\nPokemon who just make it (barely)\")\n",
        "charizard_lived = charizard_lived.sort_values(by=\"percent\",ascending=False)\n",
        "print(charizard_lived.head(10))\n",
        "\n",
        "charizard.to_csv(\"charizard_fireblast_damage.csv\")"
      ],
      "metadata": {
        "colab": {
          "base_uri": "https://localhost:8080/"
        },
        "id": "RVQtxHc1tsFT",
        "outputId": "023f041d-1de8-41eb-8bd9-90f0d68919ff"
      },
      "execution_count": null,
      "outputs": [
        {
          "output_type": "stream",
          "name": "stdout",
          "text": [
            "Charizard fire blast stats\n",
            "===============================\n",
            "\n",
            "Top 10 hardest hit pokemon\n",
            "   index      name  hp_100  charizard_fireblast     percent\n",
            "7     45     Paras     273                576.0  210.989011\n",
            "5     12    Weedle     283                552.0  195.053004\n",
            "6      9  Caterpie     293                552.0  188.395904\n",
            "3     13    Kakuna     293                488.0  166.552901\n",
            "4     10   Metapod     303                488.0  161.056106\n",
            "2     46  Parasect     323                428.0  132.507740\n",
            "1     47   Venonat     323                362.0  112.074303\n",
            "0     14  Beedrill     333                334.0  100.300300\n",
            "\n",
            "Top 10 most resisted pokemon\n",
            "    index        name  hp_100  charizard_fireblast    percent\n",
            "0     138     Omastar     343                20.00   5.830904\n",
            "5     133    Vaporeon     463                41.50   8.963283\n",
            "1     137     Omanyte     273                24.50   8.974359\n",
            "2     140    Kabutops     323                29.75   9.210526\n",
            "3     145     Moltres     383                37.00   9.660574\n",
            "4      72  Tentacruel     363                38.50  10.606061\n",
            "8     129    Gyarados     393                45.00  11.450382\n",
            "11    148   Dragonite     385                45.00  11.688312\n",
            "53    112     Chansey     703                86.00  12.233286\n",
            "6     135     Flareon     333                41.50  12.462462\n",
            "\n",
            "Pokemon who just make it (barely)\n",
            "     index        name  hp_100  charizard_fireblast    percent\n",
            "138     18     Rattata     263                244.0  92.775665\n",
            "142    126      Pinsir     333                288.0  86.486486\n",
            "139      0   Bulbasaur     293                252.0  86.006826\n",
            "141    122     Scyther     343                288.0  83.965015\n",
            "140    101   Exeggcute     323                270.0  83.591331\n",
            "136     68  Bellsprout     303                238.0  78.547855\n",
            "135     42      Oddish     293                226.0  77.133106\n",
            "132     20     Spearow     283                214.0  75.618375\n",
            "108     49     Diglett     223                167.0  74.887892\n",
            "128     83       Doduo     273                198.0  72.527473\n"
          ]
        },
        {
          "output_type": "stream",
          "name": "stderr",
          "text": [
            "<ipython-input-30-54069d703786>:4: UserWarning: Pandas doesn't allow columns to be created via a new attribute name - see https://pandas.pydata.org/pandas-docs/stable/indexing.html#attribute-access\n",
            "  charizard.charizard = charizard.charizard_fireblast.astype(\"float\")\n"
          ]
        }
      ]
    },
    {
      "cell_type": "markdown",
      "source": [
        "### Blastoise Hydro pump\n",
        "\n",
        "Top 10 pokemon who:   \n",
        "-Get overkilled   \n",
        "-Resist    \n",
        "-Barely live one hit  "
      ],
      "metadata": {
        "id": "HwHshnT4tsg2"
      }
    },
    {
      "cell_type": "code",
      "source": [
        "# Blastoise hydro pump analysis\n",
        "print(\"Blastoise hydro pump stats\\n===============================\")\n",
        "blastoise = poke_df_damage[[\"name\",\"hp_100\",\"blastoise_hydropump\"]]\n",
        "blastoise.blastoise = blastoise.blastoise_hydropump.astype(\"float\")\n",
        "blastoise = blastoise.sort_values(by=\"blastoise_hydropump\", ascending=True)\n",
        "\n",
        "print(\"\\nTop 10 hardest hit pokemon\")\n",
        "blastoise_ohko = blastoise[blastoise.hp_100 < blastoise.blastoise_hydropump].reset_index()\n",
        "blastoise_ohko[\"percent\"] = blastoise_ohko.blastoise_hydropump / blastoise_ohko.hp_100 * 100\n",
        "blastoise_ohko = blastoise_ohko.sort_values(by=\"percent\", ascending=False)\n",
        "print(blastoise_ohko.head(10))\n",
        "\n",
        "print(\"\\nTop 10 most resisted pokemon\")\n",
        "blastoise_lived = blastoise[blastoise.hp_100 > blastoise.blastoise_hydropump].reset_index()\n",
        "blastoise_lived[\"percent\"] = blastoise_lived.blastoise_hydropump / blastoise_lived.hp_100 * 100\n",
        "blastoise_lived = blastoise_lived.sort_values(by=\"percent\",ascending=True)\n",
        "print(blastoise_lived.head(10))\n",
        "\n",
        "print(\"\\nPokemon who just make it (barely)\")\n",
        "blastoise_lived = blastoise_lived.sort_values(by=\"percent\",ascending=False)\n",
        "print(blastoise_lived.head(10))\n",
        "\n",
        "blastoise.to_csv(\"blastoise_hydropump_damage.csv\")"
      ],
      "metadata": {
        "colab": {
          "base_uri": "https://localhost:8080/"
        },
        "id": "qUiHONg-tuIb",
        "outputId": "ce1f4417-2b06-4169-94dd-cf2068f3fb19"
      },
      "execution_count": null,
      "outputs": [
        {
          "output_type": "stream",
          "name": "stdout",
          "text": [
            "Blastoise hydro pump stats\n",
            "===============================\n",
            "\n",
            "Top 10 hardest hit pokemon\n",
            "   index        name  hp_100  blastoise_hydropump     percent\n",
            "8     94        Onix     273                876.0  320.879121\n",
            "9     73     Geodude     283                876.0  309.540636\n",
            "7    110     Rhyhorn     363                876.0  241.322314\n",
            "5     74    Graveler     313                668.0  213.418530\n",
            "6    111      Rhydon     413                668.0  161.743341\n",
            "4     75       Golem     363                576.0  158.677686\n",
            "1     49     Diglett     223                334.0  149.775785\n",
            "3     26   Sandshrew     303                438.0  144.554455\n",
            "2    103      Cubone     303                362.0  119.471947\n",
            "0      3  Charmander     281                310.0  110.320285\n",
            "\n",
            "Top 10 most resisted pokemon\n",
            "    index        name  hp_100  blastoise_hydropump    percent\n",
            "2     133    Vaporeon     463                 41.5   8.963283\n",
            "0     102   Exeggutor     393                 37.0   9.414758\n",
            "13    130      Lapras     463                 46.5  10.043197\n",
            "1      72  Tentacruel     363                 38.5  10.606061\n",
            "10    129    Gyarados     393                 45.0  11.450382\n",
            "5     148   Dragonite     385                 45.0  11.688312\n",
            "11     86     Dewgong     383                 46.5  12.140992\n",
            "52    112     Chansey     703                 86.0  12.233286\n",
            "3      70  Victreebel     363                 45.0  12.396694\n",
            "4       2    Venusaur     363                 45.0  12.396694\n",
            "\n",
            "Pokemon who just make it (barely)\n",
            "     index       name  hp_100  blastoise_hydropump    percent\n",
            "139     57  Growlithe     313                310.0  99.041534\n",
            "137     12     Weedle     283                276.0  97.526502\n",
            "140    104    Marowak     323                310.0  95.975232\n",
            "136      9   Caterpie     293                276.0  94.197952\n",
            "128     18    Rattata     263                244.0  92.775665\n",
            "133     36     Vulpix     279                252.0  90.322581\n",
            "127     50    Dugtrio     273                238.0  87.179487\n",
            "131     13     Kakuna     293                244.0  83.276451\n",
            "132     76     Ponyta     303                252.0  83.168317\n",
            "138     27  Sandslash     353                288.0  81.586402\n"
          ]
        },
        {
          "output_type": "stream",
          "name": "stderr",
          "text": [
            "<ipython-input-31-b4302c436c86>:4: UserWarning: Pandas doesn't allow columns to be created via a new attribute name - see https://pandas.pydata.org/pandas-docs/stable/indexing.html#attribute-access\n",
            "  blastoise.blastoise = blastoise.blastoise_hydropump.astype(\"float\")\n"
          ]
        }
      ]
    },
    {
      "cell_type": "markdown",
      "source": [
        "# Summary and Overview\n",
        "\n",
        "## Type Distributions   \n",
        "Interestingly, the top three mono-type pokemon types (water, normal, poison) are also the top three dual-type pokemon types while not in that order (poison, water, normal).   \n",
        "\n",
        "There are also no mono-type ghost, rock, ice or flying pokemon.  \n",
        "The only mono-type grass Pokemon in the game is Tangela. All grass type Pokemon besides Tangela have a second typing which is almost always poison, except for Exeggcute line which is psychic.   \n",
        "\n",
        "There being no mono-type flying pokemon is the most interesting one, because it's the fourth most common type in the game, but only appears with other typings. It is also never the primary type, it is always the second typing.   \n",
        "\n",
        "A worthwhile note as well, is that fire is the fourth most common mono-type but is only the ninth most common type overall.   \n",
        "\n",
        "## Stat Distributions\n",
        "There wasn't too much of note with the dist distributions. The most notable thing seen is that HP and Defence all look normally distributed, while Attack and Special (which means special attack and special defence) have a visible distribution but it's more erratic as opposed to having a clear bell curve.   \n",
        "\n",
        "Secondly, the Stat Total is the only bimodal distribution with two distinct clear peaks while the other stat distributions are unimodal.   \n",
        "\n",
        "## Type Coverage\n",
        "For immunities, the prevalence of dual-type flying Pokemon, it's no wonder that ground is the most commonly resisted type for 0x damage. Electric isn't far behind. As with the type distribution analysis, there are no mono-type rock pokemon because they all have secondary ground typing. Normal and Fighting are both resisted at 0x damage the same as this is only the Ghastly line.   \n",
        "\n",
        "For quad-resists, grass is the most commonly quad-resisted type by far - over double the next type being poison.    \n",
        "\n",
        "For resistances, it seems that fire, water and fighting are the two most commonly resisted types for 0.5x damage. This is probably due to the number of water, grass, and poison/flying types in the pokedex respectively. Interestingly, while Ground was the most commonly resisted for 0x damage, it's the least commonly resisted type for 0.5x damage. Psychic is also in the top three least resisted pokemon types in generation 1 which helps explain why they were so strong in competitive play.   \n",
        "\n",
        "For normal damage, the top three types are ghost and dragon tied for first, with normal in second. Ghost and dragon both hit all types neutrally except themselves. Given there are only three of each type in the game being the Ghastly and Dratini line, they hit 148 pokemon neutrally each. Normal type's strength is it hits most types for neutral damage, hitting close to 140 pokemon for normal damage.   \n",
        "\n",
        "For super-effective damage, Electric and Ground, the two most resisted for 0x damage are at the top of the type chart, followed closely by Psychic and Rock. With the prevalance of water, flying and poison types, these are overall strong typings. While poison is one of the most common typings in the game, it hits the least number of pokemon for super effective x2 damage, except for dragon and ghost which only hit themselves for 2x damage.   \n",
        "\n",
        "Finally, for super-effective x4 damage, oddly, bug is the strongest type in the game, followed closely by grass. This is probably due to bug in generation 1 hitting poison types super-effectively, and grass poison are a common typing, along with grass psychic of the Exeggcute line. Grass is a strong typing purely for all of the rock ground types and the Kabuto line being rock water. In generation 1, there are no ground water types.   \n",
        "\n",
        "## Damage Distributions for popular Pokemon\n",
        "Largest hit   \n",
        "Golem exploding on an Abra - 1131 damage - 447% of its total HP.\n",
        "Golem does more damage to Chansey (1633) but as Chansey's HP is so high (703), it's a lower percentage than the top 10 pokemon by percentage of health taken. Chansey takes 232% damage while the 10th hardest hit is Makey taking 245% damage.\n",
        "\n",
        "Smallest hit   \n",
        "Charizard fire blasting an Omastar - 20 damage - 5.8% of its total HP.   \n",
        "Close behind is Venusaur solar beaming a Moltres - 21 damage  5.5% of its total HP.   \n",
        "\n",
        "Luckiest pokemon   \n",
        "Dugtrio hit by Venusaur's solar beam, and Spearow hit by Pikachu's thunder both barely make it out alive on 1 HP.   \n",
        "\n",
        "Highest average damage   \n",
        "Golem's explosion averages 450 points of damage, second by Gyarados' hyper beam averaging 222 points of damage.   \n",
        "\n",
        "Lowset average damage   \n",
        "Pikachu does the least damage, averaging 101 points of damage. Second is Charizard's fire blast doing an average of 138 points of damage.   \n",
        "   \n",
        "Most and least consistent   \n",
        "Of all seven pokemon, Pikachu's thunder while being the weakest, has the lowest deviation from the average of 101 with a standard deviation of 71.\n",
        "Golem's explosion while the strongest average at 450, has the largest deviation from the average, with a standard deviation of 198.   \n",
        "   \n",
        "Finally, Blastoise and Venusaur seem to be the most middle-of-the-road pokemon, neither showing up as heavy or light hitters, with standard deviations in the middle of the distribution compared to the other five pokemon.\n",
        "\n",
        "## In Summary   \n",
        "Generation 1 was a pokedex filled with quirks, such as the absence of mono-type flying pokemon despite there being a lot of flying pokemon, and contains some unique mechanics like the combining of special attack and special defence into one 'special' stat. The types dictating the physical or special stats used is a strange and interesting mechanic, whereby pokemon cannot use their most effective stat for their same type attack bonus. This generation also had the most limited move pool. While bug type is the heaviest hitter for x4 damage, there aren't any good bug moves. All-in-all, this analysis was a fun trip down memory lane and provided some interesting insights into the original pokedex.\n"
      ],
      "metadata": {
        "id": "V9JH48FNxpoW"
      }
    },
    {
      "cell_type": "markdown",
      "source": [
        "# Sandbox Area\n",
        "This is to allow anyone curious about the data to have a play around and see the results of their own queries.   \n",
        "\n",
        "Instructions:    \n",
        "1- Run 1- All Library Imports   \n",
        "2- Run all cells in order in 6- Calculations and formula   \n",
        "3- To analyse damage for a move that hasn't been added, run the cell below with the move data you want to add"
      ],
      "metadata": {
        "id": "UEo4HZvYYYMF"
      }
    },
    {
      "cell_type": "code",
      "source": [
        "def AddMove(name, typing, power):\n",
        "  move_df.loc[len(move_df)] = {\"move_name\":name, \"type\":typing, \"power\":power}\n",
        "\n",
        "AddMove(\"Sky Attack\", \"Flying\", 140)\n",
        "print(move_df)\n",
        "\n",
        "# Moves can be found here: https://www.smogon.com/dex/rb/moves/"
      ],
      "metadata": {
        "colab": {
          "base_uri": "https://localhost:8080/"
        },
        "id": "40u_8g67az0R",
        "outputId": "a8031f0f-7ade-4a2e-b79f-daf75ae9c963"
      },
      "execution_count": null,
      "outputs": [
        {
          "output_type": "stream",
          "name": "stdout",
          "text": [
            "   Unnamed: 0   move_name      type  power\n",
            "0         0.0  Hyper Beam    Normal    150\n",
            "1         1.0     Psychic   Psychic     90\n",
            "2         2.0     Thunder  Electric    120\n",
            "3         3.0   Explosion    Normal    170\n",
            "4         4.0  Fire Blast      Fire    120\n",
            "5         5.0  Hydro Pump     Water    120\n",
            "6         6.0  Solar Beam     Grass    120\n",
            "7         NaN  Sky Attack    Flying    140\n"
          ]
        }
      ]
    },
    {
      "cell_type": "code",
      "source": [
        "# Gen 1 type coverage\n",
        "attacking_type = \"Poison\"\n",
        "type_1 = \"Rock\"\n",
        "type_2 = \"Flying\"\n",
        "defending_type = [type_1, type_2]\n",
        "type_damage = TypeEffectiveness(attacking_type, defending_type)\n",
        "print(attacking_type + \" attacking \" + str(defending_type) + \" does \" + str(type_damage) + \"x damage!\\n\")\n",
        "\n",
        "# Show max level 100 Stats\n",
        "pokemon_name = \"Charizard\"\n",
        "ExtractAndCalculateStats(pokemon_name, True)\n",
        "\n",
        "# Show damage calculation\n",
        "attacking_pokemon = \"Pidgey\"\n",
        "defending_pokemon = \"Bellsprout\"\n",
        "attacking_move = \"Sky Attack\"\n",
        "damage_dealt = CalculateDamage(attacking_pokemon, defending_pokemon, attacking_move)\n",
        "print(\"\\n\" + attacking_pokemon + \" using \" + attacking_move + \" against a \" + defending_pokemon + \" does \" + str(damage_dealt) + \" damage!\")"
      ],
      "metadata": {
        "id": "oVcQTT9uQnj0",
        "colab": {
          "base_uri": "https://localhost:8080/"
        },
        "outputId": "16e0651f-2df7-427c-9730-455a593050ac"
      },
      "execution_count": null,
      "outputs": [
        {
          "output_type": "stream",
          "name": "stdout",
          "text": [
            "Poison attacking ['Rock', 'Flying'] does 0.5x damage!\n",
            "\n",
            "Pokemon: Charizard\n",
            "HP: 359\n",
            "Attack: 205\n",
            "Defence: 193\n",
            "Special Attack: 207\n",
            "Special Defence: 207\n",
            "Speed: 237\n",
            "\n",
            "Pidgey using Sky Attack against a Bellsprout does 282.0 damage!\n"
          ]
        }
      ]
    },
    {
      "cell_type": "markdown",
      "source": [
        "# Data Visulisation in Tableau\n",
        "I've done some data vis and made a nice swanky dashboard on Tableau.   \n",
        "Here's a link to it:   \n",
        "https://public.tableau.com/app/profile/cyberdragon/viz/Pokemon-Generation1DataAnalysis/Generation1Analysis?publish=yes"
      ],
      "metadata": {
        "id": "HG4M94GXHFKa"
      }
    }
  ]
}